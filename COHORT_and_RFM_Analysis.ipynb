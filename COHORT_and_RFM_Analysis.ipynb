{
 "cells": [
  {
   "cell_type": "code",
   "execution_count": 1,
   "id": "6fdde736",
   "metadata": {},
   "outputs": [],
   "source": [
    "import pandas as pd\n",
    "import matplotlib.pyplot as plt\n",
    "%matplotlib inline"
   ]
  },
  {
   "cell_type": "code",
   "execution_count": 2,
   "id": "c2ed1cfe",
   "metadata": {},
   "outputs": [
    {
     "data": {
      "text/html": [
       "<div>\n",
       "<style scoped>\n",
       "    .dataframe tbody tr th:only-of-type {\n",
       "        vertical-align: middle;\n",
       "    }\n",
       "\n",
       "    .dataframe tbody tr th {\n",
       "        vertical-align: top;\n",
       "    }\n",
       "\n",
       "    .dataframe thead th {\n",
       "        text-align: right;\n",
       "    }\n",
       "</style>\n",
       "<table border=\"1\" class=\"dataframe\">\n",
       "  <thead>\n",
       "    <tr style=\"text-align: right;\">\n",
       "      <th></th>\n",
       "      <th>Invoice</th>\n",
       "      <th>StockCode</th>\n",
       "      <th>Description</th>\n",
       "      <th>Quantity</th>\n",
       "      <th>InvoiceDate</th>\n",
       "      <th>Price</th>\n",
       "      <th>Customer ID</th>\n",
       "      <th>Country</th>\n",
       "    </tr>\n",
       "  </thead>\n",
       "  <tbody>\n",
       "    <tr>\n",
       "      <th>0</th>\n",
       "      <td>489434</td>\n",
       "      <td>85048</td>\n",
       "      <td>15CM CHRISTMAS GLASS BALL 20 LIGHTS</td>\n",
       "      <td>12</td>\n",
       "      <td>2009-12-01 07:45:00</td>\n",
       "      <td>6.95</td>\n",
       "      <td>13085</td>\n",
       "      <td>United Kingdom</td>\n",
       "    </tr>\n",
       "    <tr>\n",
       "      <th>1</th>\n",
       "      <td>489434</td>\n",
       "      <td>79323P</td>\n",
       "      <td>PINK CHERRY LIGHTS</td>\n",
       "      <td>12</td>\n",
       "      <td>2009-12-01 07:45:00</td>\n",
       "      <td>6.75</td>\n",
       "      <td>13085</td>\n",
       "      <td>United Kingdom</td>\n",
       "    </tr>\n",
       "    <tr>\n",
       "      <th>2</th>\n",
       "      <td>489434</td>\n",
       "      <td>79323W</td>\n",
       "      <td>WHITE CHERRY LIGHTS</td>\n",
       "      <td>12</td>\n",
       "      <td>2009-12-01 07:45:00</td>\n",
       "      <td>6.75</td>\n",
       "      <td>13085</td>\n",
       "      <td>United Kingdom</td>\n",
       "    </tr>\n",
       "  </tbody>\n",
       "</table>\n",
       "</div>"
      ],
      "text/plain": [
       "  Invoice StockCode                          Description  Quantity  \\\n",
       "0  489434     85048  15CM CHRISTMAS GLASS BALL 20 LIGHTS        12   \n",
       "1  489434    79323P                   PINK CHERRY LIGHTS        12   \n",
       "2  489434    79323W                  WHITE CHERRY LIGHTS        12   \n",
       "\n",
       "          InvoiceDate  Price Customer ID         Country  \n",
       "0 2009-12-01 07:45:00   6.95       13085  United Kingdom  \n",
       "1 2009-12-01 07:45:00   6.75       13085  United Kingdom  \n",
       "2 2009-12-01 07:45:00   6.75       13085  United Kingdom  "
      ]
     },
     "execution_count": 2,
     "metadata": {},
     "output_type": "execute_result"
    }
   ],
   "source": [
    "# changing the datatypes of Invoice = string, Customer ID = string, InvoiceDate = datetime\n",
    "# Invoice and Customer ID are the key/ID for our dataset\n",
    "\n",
    "df = pd.read_csv(r\"C:\\Users\\admin\\Desktop\\refocus\\Module 5\\5.7 data set\\online_retail.csv\", parse_dates=['InvoiceDate'],\n",
    "                dtype ={'Invoice':str,\n",
    "                        'Customer ID':str\n",
    "                })\n",
    "df.head(3)"
   ]
  },
  {
   "cell_type": "code",
   "execution_count": 3,
   "id": "927b5402",
   "metadata": {},
   "outputs": [
    {
     "name": "stdout",
     "output_type": "stream",
     "text": [
      "these are  525461  transactions in our datasets\n"
     ]
    },
    {
     "data": {
      "text/plain": [
       "Invoice        525461\n",
       "StockCode      525461\n",
       "Description    522533\n",
       "Quantity       525461\n",
       "InvoiceDate    525461\n",
       "Price          525461\n",
       "Customer ID    417534\n",
       "Country        525461\n",
       "dtype: int64"
      ]
     },
     "execution_count": 3,
     "metadata": {},
     "output_type": "execute_result"
    }
   ],
   "source": [
    "print('these are ',len(df),' transactions in our datasets')\n",
    "df.count()"
   ]
  },
  {
   "cell_type": "markdown",
   "id": "e66d4509",
   "metadata": {},
   "source": [
    "    # Starting of Data Cleaning By Removing the Cancelled transactions and Null Values"
   ]
  },
  {
   "cell_type": "code",
   "execution_count": 4,
   "id": "728f0fd7",
   "metadata": {},
   "outputs": [
    {
     "data": {
      "text/plain": [
       "0         False\n",
       "1         False\n",
       "2         False\n",
       "3         False\n",
       "4         False\n",
       "          ...  \n",
       "525456    False\n",
       "525457    False\n",
       "525458    False\n",
       "525459    False\n",
       "525460    False\n",
       "Name: Invoice, Length: 525461, dtype: bool"
      ]
     },
     "execution_count": 4,
     "metadata": {},
     "output_type": "execute_result"
    }
   ],
   "source": [
    "# we have Cancelled transactions that started with letter 'C' in Invoice Column\n",
    "df.Invoice.str.startswith('C')"
   ]
  },
  {
   "cell_type": "code",
   "execution_count": 5,
   "id": "c1b58ff5",
   "metadata": {},
   "outputs": [
    {
     "data": {
      "text/plain": [
       "0         True\n",
       "1         True\n",
       "2         True\n",
       "3         True\n",
       "4         True\n",
       "          ... \n",
       "525456    True\n",
       "525457    True\n",
       "525458    True\n",
       "525459    True\n",
       "525460    True\n",
       "Name: Invoice, Length: 525461, dtype: bool"
      ]
     },
     "execution_count": 5,
     "metadata": {},
     "output_type": "execute_result"
    }
   ],
   "source": [
    "# using ~ to change the false into True\n",
    "~df.Invoice.str.startswith('C')"
   ]
  },
  {
   "cell_type": "code",
   "execution_count": 6,
   "id": "4760a877",
   "metadata": {},
   "outputs": [
    {
     "data": {
      "text/plain": [
       "10206"
      ]
     },
     "execution_count": 6,
     "metadata": {},
     "output_type": "execute_result"
    }
   ],
   "source": [
    "df.Invoice.str.startswith('C').sum()"
   ]
  },
  {
   "cell_type": "code",
   "execution_count": 7,
   "id": "c79b89c1",
   "metadata": {},
   "outputs": [
    {
     "data": {
      "text/plain": [
       "Invoice        515255\n",
       "StockCode      515255\n",
       "Description    512327\n",
       "Quantity       515255\n",
       "InvoiceDate    515255\n",
       "Price          515255\n",
       "Customer ID    407695\n",
       "Country        515255\n",
       "dtype: int64"
      ]
     },
     "execution_count": 7,
     "metadata": {},
     "output_type": "execute_result"
    }
   ],
   "source": [
    "# removing now the Cancelled Transactions\n",
    "df=df[~df.Invoice.str.startswith('C')]\n",
    "df.count()"
   ]
  },
  {
   "cell_type": "code",
   "execution_count": 8,
   "id": "16f1d519",
   "metadata": {},
   "outputs": [
    {
     "data": {
      "text/plain": [
       "107560"
      ]
     },
     "execution_count": 8,
     "metadata": {},
     "output_type": "execute_result"
    }
   ],
   "source": [
    "# we get the sum of null values in Customer ID\n",
    "df['Customer ID'].isna().sum()"
   ]
  },
  {
   "cell_type": "code",
   "execution_count": 9,
   "id": "4a488299",
   "metadata": {},
   "outputs": [
    {
     "data": {
      "text/plain": [
       "Invoice        407695\n",
       "StockCode      407695\n",
       "Description    407695\n",
       "Quantity       407695\n",
       "InvoiceDate    407695\n",
       "Price          407695\n",
       "Customer ID    407695\n",
       "Country        407695\n",
       "dtype: int64"
      ]
     },
     "execution_count": 9,
     "metadata": {},
     "output_type": "execute_result"
    }
   ],
   "source": [
    "# drop of null values in Customer ID\n",
    "df = df.dropna(subset=['Customer ID'])\n",
    "df.count()"
   ]
  },
  {
   "cell_type": "code",
   "execution_count": 10,
   "id": "62052167",
   "metadata": {},
   "outputs": [
    {
     "data": {
      "text/html": [
       "<div>\n",
       "<style scoped>\n",
       "    .dataframe tbody tr th:only-of-type {\n",
       "        vertical-align: middle;\n",
       "    }\n",
       "\n",
       "    .dataframe tbody tr th {\n",
       "        vertical-align: top;\n",
       "    }\n",
       "\n",
       "    .dataframe thead th {\n",
       "        text-align: right;\n",
       "    }\n",
       "</style>\n",
       "<table border=\"1\" class=\"dataframe\">\n",
       "  <thead>\n",
       "    <tr style=\"text-align: right;\">\n",
       "      <th></th>\n",
       "      <th>Quantity</th>\n",
       "      <th>Price</th>\n",
       "    </tr>\n",
       "  </thead>\n",
       "  <tbody>\n",
       "    <tr>\n",
       "      <th>count</th>\n",
       "      <td>407695.000000</td>\n",
       "      <td>407695.000000</td>\n",
       "    </tr>\n",
       "    <tr>\n",
       "      <th>mean</th>\n",
       "      <td>13.586686</td>\n",
       "      <td>3.294188</td>\n",
       "    </tr>\n",
       "    <tr>\n",
       "      <th>std</th>\n",
       "      <td>96.842229</td>\n",
       "      <td>34.756655</td>\n",
       "    </tr>\n",
       "    <tr>\n",
       "      <th>min</th>\n",
       "      <td>1.000000</td>\n",
       "      <td>0.000000</td>\n",
       "    </tr>\n",
       "    <tr>\n",
       "      <th>25%</th>\n",
       "      <td>2.000000</td>\n",
       "      <td>1.250000</td>\n",
       "    </tr>\n",
       "    <tr>\n",
       "      <th>50%</th>\n",
       "      <td>5.000000</td>\n",
       "      <td>1.950000</td>\n",
       "    </tr>\n",
       "    <tr>\n",
       "      <th>75%</th>\n",
       "      <td>12.000000</td>\n",
       "      <td>3.750000</td>\n",
       "    </tr>\n",
       "    <tr>\n",
       "      <th>max</th>\n",
       "      <td>19152.000000</td>\n",
       "      <td>10953.500000</td>\n",
       "    </tr>\n",
       "  </tbody>\n",
       "</table>\n",
       "</div>"
      ],
      "text/plain": [
       "            Quantity          Price\n",
       "count  407695.000000  407695.000000\n",
       "mean       13.586686       3.294188\n",
       "std        96.842229      34.756655\n",
       "min         1.000000       0.000000\n",
       "25%         2.000000       1.250000\n",
       "50%         5.000000       1.950000\n",
       "75%        12.000000       3.750000\n",
       "max     19152.000000   10953.500000"
      ]
     },
     "execution_count": 10,
     "metadata": {},
     "output_type": "execute_result"
    }
   ],
   "source": [
    " # Checking the descriptive statistics\n",
    "df[['Quantity','Price']].describe()"
   ]
  },
  {
   "cell_type": "markdown",
   "id": "8d8965dc",
   "metadata": {},
   "source": [
    "Using the describe function above, we see some descriptive statistics for our variables. Notice that there are also large max quantities and price compared to their 75th percentiles. We can also choose to remove them, but since we have mostly wholesale customers, there is a good chance that these quantities are correct."
   ]
  },
  {
   "cell_type": "code",
   "execution_count": 11,
   "id": "6fbf0558",
   "metadata": {},
   "outputs": [
    {
     "data": {
      "text/html": [
       "<div>\n",
       "<style scoped>\n",
       "    .dataframe tbody tr th:only-of-type {\n",
       "        vertical-align: middle;\n",
       "    }\n",
       "\n",
       "    .dataframe tbody tr th {\n",
       "        vertical-align: top;\n",
       "    }\n",
       "\n",
       "    .dataframe thead th {\n",
       "        text-align: right;\n",
       "    }\n",
       "</style>\n",
       "<table border=\"1\" class=\"dataframe\">\n",
       "  <thead>\n",
       "    <tr style=\"text-align: right;\">\n",
       "      <th></th>\n",
       "      <th>Invoice</th>\n",
       "      <th>StockCode</th>\n",
       "      <th>Description</th>\n",
       "      <th>Quantity</th>\n",
       "      <th>InvoiceDate</th>\n",
       "      <th>Price</th>\n",
       "      <th>Customer ID</th>\n",
       "      <th>Country</th>\n",
       "    </tr>\n",
       "  </thead>\n",
       "  <tbody>\n",
       "    <tr>\n",
       "      <th>0</th>\n",
       "      <td>489434</td>\n",
       "      <td>85048</td>\n",
       "      <td>15CM CHRISTMAS GLASS BALL 20 LIGHTS</td>\n",
       "      <td>12</td>\n",
       "      <td>2009-12-01 07:45:00</td>\n",
       "      <td>6.95</td>\n",
       "      <td>13085</td>\n",
       "      <td>United Kingdom</td>\n",
       "    </tr>\n",
       "    <tr>\n",
       "      <th>1</th>\n",
       "      <td>489434</td>\n",
       "      <td>79323P</td>\n",
       "      <td>PINK CHERRY LIGHTS</td>\n",
       "      <td>12</td>\n",
       "      <td>2009-12-01 07:45:00</td>\n",
       "      <td>6.75</td>\n",
       "      <td>13085</td>\n",
       "      <td>United Kingdom</td>\n",
       "    </tr>\n",
       "  </tbody>\n",
       "</table>\n",
       "</div>"
      ],
      "text/plain": [
       "  Invoice StockCode                          Description  Quantity  \\\n",
       "0  489434     85048  15CM CHRISTMAS GLASS BALL 20 LIGHTS        12   \n",
       "1  489434    79323P                   PINK CHERRY LIGHTS        12   \n",
       "\n",
       "          InvoiceDate  Price Customer ID         Country  \n",
       "0 2009-12-01 07:45:00   6.95       13085  United Kingdom  \n",
       "1 2009-12-01 07:45:00   6.75       13085  United Kingdom  "
      ]
     },
     "execution_count": 11,
     "metadata": {},
     "output_type": "execute_result"
    }
   ],
   "source": [
    "df.head(2)"
   ]
  },
  {
   "cell_type": "code",
   "execution_count": 12,
   "id": "3f3dd99d",
   "metadata": {},
   "outputs": [
    {
     "data": {
      "text/html": [
       "<div>\n",
       "<style scoped>\n",
       "    .dataframe tbody tr th:only-of-type {\n",
       "        vertical-align: middle;\n",
       "    }\n",
       "\n",
       "    .dataframe tbody tr th {\n",
       "        vertical-align: top;\n",
       "    }\n",
       "\n",
       "    .dataframe thead th {\n",
       "        text-align: right;\n",
       "    }\n",
       "</style>\n",
       "<table border=\"1\" class=\"dataframe\">\n",
       "  <thead>\n",
       "    <tr style=\"text-align: right;\">\n",
       "      <th></th>\n",
       "      <th>Invoice</th>\n",
       "      <th>StockCode</th>\n",
       "      <th>Description</th>\n",
       "      <th>Quantity</th>\n",
       "      <th>InvoiceDate</th>\n",
       "      <th>Price</th>\n",
       "      <th>Customer ID</th>\n",
       "      <th>Country</th>\n",
       "    </tr>\n",
       "  </thead>\n",
       "  <tbody>\n",
       "    <tr>\n",
       "      <th>90857</th>\n",
       "      <td>497946</td>\n",
       "      <td>37410</td>\n",
       "      <td>BLACK AND WHITE PAISLEY FLOWER MUG</td>\n",
       "      <td>19152</td>\n",
       "      <td>2010-02-15 11:57:00</td>\n",
       "      <td>0.1</td>\n",
       "      <td>13902</td>\n",
       "      <td>Denmark</td>\n",
       "    </tr>\n",
       "  </tbody>\n",
       "</table>\n",
       "</div>"
      ],
      "text/plain": [
       "      Invoice StockCode                         Description  Quantity  \\\n",
       "90857  497946     37410  BLACK AND WHITE PAISLEY FLOWER MUG     19152   \n",
       "\n",
       "              InvoiceDate  Price Customer ID  Country  \n",
       "90857 2010-02-15 11:57:00    0.1       13902  Denmark  "
      ]
     },
     "execution_count": 12,
     "metadata": {},
     "output_type": "execute_result"
    }
   ],
   "source": [
    "df[df.Quantity == df.Quantity.max()]"
   ]
  },
  {
   "cell_type": "code",
   "execution_count": 13,
   "id": "2af846e7",
   "metadata": {},
   "outputs": [
    {
     "data": {
      "text/html": [
       "<div>\n",
       "<style scoped>\n",
       "    .dataframe tbody tr th:only-of-type {\n",
       "        vertical-align: middle;\n",
       "    }\n",
       "\n",
       "    .dataframe tbody tr th {\n",
       "        vertical-align: top;\n",
       "    }\n",
       "\n",
       "    .dataframe thead th {\n",
       "        text-align: right;\n",
       "    }\n",
       "</style>\n",
       "<table border=\"1\" class=\"dataframe\">\n",
       "  <thead>\n",
       "    <tr style=\"text-align: right;\">\n",
       "      <th></th>\n",
       "      <th>Invoice</th>\n",
       "      <th>StockCode</th>\n",
       "      <th>Description</th>\n",
       "      <th>Quantity</th>\n",
       "      <th>InvoiceDate</th>\n",
       "      <th>Price</th>\n",
       "      <th>Customer ID</th>\n",
       "      <th>Country</th>\n",
       "    </tr>\n",
       "  </thead>\n",
       "  <tbody>\n",
       "    <tr>\n",
       "      <th>135013</th>\n",
       "      <td>502263</td>\n",
       "      <td>M</td>\n",
       "      <td>Manual</td>\n",
       "      <td>1</td>\n",
       "      <td>2010-03-23 15:22:00</td>\n",
       "      <td>10953.5</td>\n",
       "      <td>12918</td>\n",
       "      <td>United Kingdom</td>\n",
       "    </tr>\n",
       "  </tbody>\n",
       "</table>\n",
       "</div>"
      ],
      "text/plain": [
       "       Invoice StockCode Description  Quantity         InvoiceDate    Price  \\\n",
       "135013  502263         M      Manual         1 2010-03-23 15:22:00  10953.5   \n",
       "\n",
       "       Customer ID         Country  \n",
       "135013       12918  United Kingdom  "
      ]
     },
     "execution_count": 13,
     "metadata": {},
     "output_type": "execute_result"
    }
   ],
   "source": [
    "df[df.Price == df.Price.max()]"
   ]
  },
  {
   "cell_type": "markdown",
   "id": "ec4d0ee2",
   "metadata": {},
   "source": [
    "The transaction with a very large quantity is a mug with a price of 0.1. This seems plausible and we can choose to retain this. Similarly, the transaction with the very large price was manually generated (based on the description) and is only 1 quantity. We can also retain this."
   ]
  },
  {
   "cell_type": "markdown",
   "id": "57ed30e8",
   "metadata": {},
   "source": [
    "datasets are already cleaned by removing nulls and Cancelled transactions if there is an outliers (eg. Quantity & Price should not be negative.\n",
    "We can now proceed with our main objective which is to provide Cohort Analysis and Explenatory Analysis"
   ]
  },
  {
   "cell_type": "markdown",
   "id": "15fd5e90",
   "metadata": {},
   "source": [
    "1. Count of Invoice and Customers\n",
    "2. Number of Transactions per Customer\n",
    "3. Monthly number of transactions"
   ]
  },
  {
   "cell_type": "markdown",
   "id": "6434a40b",
   "metadata": {},
   "source": [
    "### Count of Invoice and Customers"
   ]
  },
  {
   "cell_type": "code",
   "execution_count": 14,
   "id": "c78aab48",
   "metadata": {},
   "outputs": [
    {
     "data": {
      "text/html": [
       "<div>\n",
       "<style scoped>\n",
       "    .dataframe tbody tr th:only-of-type {\n",
       "        vertical-align: middle;\n",
       "    }\n",
       "\n",
       "    .dataframe tbody tr th {\n",
       "        vertical-align: top;\n",
       "    }\n",
       "\n",
       "    .dataframe thead th {\n",
       "        text-align: right;\n",
       "    }\n",
       "</style>\n",
       "<table border=\"1\" class=\"dataframe\">\n",
       "  <thead>\n",
       "    <tr style=\"text-align: right;\">\n",
       "      <th></th>\n",
       "      <th>Invoice</th>\n",
       "      <th>StockCode</th>\n",
       "      <th>Description</th>\n",
       "      <th>Quantity</th>\n",
       "      <th>InvoiceDate</th>\n",
       "      <th>Price</th>\n",
       "      <th>Customer ID</th>\n",
       "      <th>Country</th>\n",
       "    </tr>\n",
       "  </thead>\n",
       "  <tbody>\n",
       "    <tr>\n",
       "      <th>0</th>\n",
       "      <td>489434</td>\n",
       "      <td>85048</td>\n",
       "      <td>15CM CHRISTMAS GLASS BALL 20 LIGHTS</td>\n",
       "      <td>12</td>\n",
       "      <td>2009-12-01 07:45:00</td>\n",
       "      <td>6.95</td>\n",
       "      <td>13085</td>\n",
       "      <td>United Kingdom</td>\n",
       "    </tr>\n",
       "    <tr>\n",
       "      <th>1</th>\n",
       "      <td>489434</td>\n",
       "      <td>79323P</td>\n",
       "      <td>PINK CHERRY LIGHTS</td>\n",
       "      <td>12</td>\n",
       "      <td>2009-12-01 07:45:00</td>\n",
       "      <td>6.75</td>\n",
       "      <td>13085</td>\n",
       "      <td>United Kingdom</td>\n",
       "    </tr>\n",
       "  </tbody>\n",
       "</table>\n",
       "</div>"
      ],
      "text/plain": [
       "  Invoice StockCode                          Description  Quantity  \\\n",
       "0  489434     85048  15CM CHRISTMAS GLASS BALL 20 LIGHTS        12   \n",
       "1  489434    79323P                   PINK CHERRY LIGHTS        12   \n",
       "\n",
       "          InvoiceDate  Price Customer ID         Country  \n",
       "0 2009-12-01 07:45:00   6.95       13085  United Kingdom  \n",
       "1 2009-12-01 07:45:00   6.75       13085  United Kingdom  "
      ]
     },
     "execution_count": 14,
     "metadata": {},
     "output_type": "execute_result"
    }
   ],
   "source": [
    "df.head(2)"
   ]
  },
  {
   "cell_type": "code",
   "execution_count": 15,
   "id": "9b38afc9",
   "metadata": {},
   "outputs": [
    {
     "data": {
      "text/plain": [
       "19215"
      ]
     },
     "execution_count": 15,
     "metadata": {},
     "output_type": "execute_result"
    }
   ],
   "source": [
    "df.Invoice.nunique()"
   ]
  },
  {
   "cell_type": "code",
   "execution_count": 16,
   "id": "1d80d7bf",
   "metadata": {},
   "outputs": [
    {
     "data": {
      "text/plain": [
       "4314"
      ]
     },
     "execution_count": 16,
     "metadata": {},
     "output_type": "execute_result"
    }
   ],
   "source": [
    "df['Customer ID'].nunique()"
   ]
  },
  {
   "cell_type": "markdown",
   "id": "1692c1d6",
   "metadata": {},
   "source": [
    "We see that we have 19,215 unique transactions across 4,314 customers. This means that each invoice may have multiple stock codes (items)."
   ]
  },
  {
   "cell_type": "markdown",
   "id": "55548f73",
   "metadata": {},
   "source": [
    "### Number of Transactions per Customer"
   ]
  },
  {
   "cell_type": "code",
   "execution_count": 17,
   "id": "9c08824f",
   "metadata": {},
   "outputs": [
    {
     "data": {
      "text/plain": [
       "Customer ID\n",
       "12346    11\n",
       "12347     2\n",
       "12348     1\n",
       "12349     3\n",
       "12351     1\n",
       "Name: Invoice, dtype: int64"
      ]
     },
     "execution_count": 17,
     "metadata": {},
     "output_type": "execute_result"
    }
   ],
   "source": [
    "# group by Customer ID\n",
    "# it may be possible to have multiple stock codes in a single invoice\n",
    "# so we only count the unique Invoice.\n",
    "df_customer = df.groupby('Customer ID')['Invoice'].nunique()\n",
    "df_customer.head()"
   ]
  },
  {
   "cell_type": "markdown",
   "id": "6acde779",
   "metadata": {},
   "source": [
    "### Monthly number of customers (loyal customers)"
   ]
  },
  {
   "cell_type": "code",
   "execution_count": 18,
   "id": "fbe2d2fd",
   "metadata": {},
   "outputs": [
    {
     "data": {
      "text/plain": [
       "Text(0.5, 0, 'Number of Transactions')"
      ]
     },
     "execution_count": 18,
     "metadata": {},
     "output_type": "execute_result"
    },
    {
     "data": {
      "image/png": "[encoded data removed]",
      "text/plain": [
       "<Figure size 800x500 with 1 Axes>"
      ]
     },
     "metadata": {},
     "output_type": "display_data"
    }
   ],
   "source": [
    "fig, ax = plt.subplots(figsize=(8,5))\n",
    "df_customer.sort_values(ascending = True).tail(10).plot(kind='barh', ax=ax)\n",
    "ax.set_title('Top 10 Customers by Number of Transaction')\n",
    "ax.set_xlabel('Number of Transactions')"
   ]
  },
  {
   "cell_type": "markdown",
   "id": "a692b61b",
   "metadata": {},
   "source": [
    "From the plot above, we see that our top 10 customers have at least 80 transactions over the range of our dataset (01/12/2009 to 09/12/2011). Our top customer has more than 200 transactions!"
   ]
  },
  {
   "cell_type": "markdown",
   "id": "13aee943",
   "metadata": {},
   "source": [
    "### Distribution of our customer transactions"
   ]
  },
  {
   "cell_type": "code",
   "execution_count": 19,
   "id": "29235792",
   "metadata": {},
   "outputs": [
    {
     "data": {
      "text/plain": [
       "Text(0, 0.5, 'Count of Customers')"
      ]
     },
     "execution_count": 19,
     "metadata": {},
     "output_type": "execute_result"
    },
    {
     "data": {
      "image/png": "[encoded data removed]",
      "text/plain": [
       "<Figure size 800x500 with 1 Axes>"
      ]
     },
     "metadata": {},
     "output_type": "display_data"
    }
   ],
   "source": [
    "fig, ax = plt.subplots(figsize=(8,5))\n",
    "df_customer.plot(kind='hist', ax=ax, bins=100)\n",
    "ax.set_title('Distribution of Number of Transactions per Customer')\n",
    "ax.set_xlabel('Count of Transactions')\n",
    "ax.set_ylabel('Count of Customers')"
   ]
  },
  {
   "cell_type": "markdown",
   "id": "768b7bf7",
   "metadata": {},
   "source": [
    "The histogram shows the distribution of our customer transactions. The leftmost bars indicate that we have a large number of customers (>2,500) with only a few transactions (least loyal). We also see some smaller bars in the right tail which tells us that we have a small number of customers with a large number of transactions (most loyal)."
   ]
  },
  {
   "cell_type": "markdown",
   "id": "174990a5",
   "metadata": {},
   "source": [
    "### Monthly number of transactions"
   ]
  },
  {
   "cell_type": "code",
   "execution_count": 20,
   "id": "d1576f3d",
   "metadata": {},
   "outputs": [
    {
     "data": {
      "text/html": [
       "<div>\n",
       "<style scoped>\n",
       "    .dataframe tbody tr th:only-of-type {\n",
       "        vertical-align: middle;\n",
       "    }\n",
       "\n",
       "    .dataframe tbody tr th {\n",
       "        vertical-align: top;\n",
       "    }\n",
       "\n",
       "    .dataframe thead th {\n",
       "        text-align: right;\n",
       "    }\n",
       "</style>\n",
       "<table border=\"1\" class=\"dataframe\">\n",
       "  <thead>\n",
       "    <tr style=\"text-align: right;\">\n",
       "      <th></th>\n",
       "      <th>Invoice</th>\n",
       "      <th>StockCode</th>\n",
       "      <th>Description</th>\n",
       "      <th>Quantity</th>\n",
       "      <th>InvoiceDate</th>\n",
       "      <th>Price</th>\n",
       "      <th>Customer ID</th>\n",
       "      <th>Country</th>\n",
       "    </tr>\n",
       "  </thead>\n",
       "  <tbody>\n",
       "    <tr>\n",
       "      <th>0</th>\n",
       "      <td>489434</td>\n",
       "      <td>85048</td>\n",
       "      <td>15CM CHRISTMAS GLASS BALL 20 LIGHTS</td>\n",
       "      <td>12</td>\n",
       "      <td>2009-12-01 07:45:00</td>\n",
       "      <td>6.95</td>\n",
       "      <td>13085</td>\n",
       "      <td>United Kingdom</td>\n",
       "    </tr>\n",
       "    <tr>\n",
       "      <th>1</th>\n",
       "      <td>489434</td>\n",
       "      <td>79323P</td>\n",
       "      <td>PINK CHERRY LIGHTS</td>\n",
       "      <td>12</td>\n",
       "      <td>2009-12-01 07:45:00</td>\n",
       "      <td>6.75</td>\n",
       "      <td>13085</td>\n",
       "      <td>United Kingdom</td>\n",
       "    </tr>\n",
       "  </tbody>\n",
       "</table>\n",
       "</div>"
      ],
      "text/plain": [
       "  Invoice StockCode                          Description  Quantity  \\\n",
       "0  489434     85048  15CM CHRISTMAS GLASS BALL 20 LIGHTS        12   \n",
       "1  489434    79323P                   PINK CHERRY LIGHTS        12   \n",
       "\n",
       "          InvoiceDate  Price Customer ID         Country  \n",
       "0 2009-12-01 07:45:00   6.95       13085  United Kingdom  \n",
       "1 2009-12-01 07:45:00   6.75       13085  United Kingdom  "
      ]
     },
     "execution_count": 20,
     "metadata": {},
     "output_type": "execute_result"
    }
   ],
   "source": [
    "df.head(2)"
   ]
  },
  {
   "cell_type": "code",
   "execution_count": 21,
   "id": "7e43b24b",
   "metadata": {},
   "outputs": [],
   "source": [
    "df['Year'] = df.InvoiceDate.dt.year\n",
    "df['Month'] = df.InvoiceDate.dt.month"
   ]
  },
  {
   "cell_type": "code",
   "execution_count": 22,
   "id": "11c2c9cc",
   "metadata": {},
   "outputs": [
    {
     "data": {
      "text/html": [
       "<div>\n",
       "<style scoped>\n",
       "    .dataframe tbody tr th:only-of-type {\n",
       "        vertical-align: middle;\n",
       "    }\n",
       "\n",
       "    .dataframe tbody tr th {\n",
       "        vertical-align: top;\n",
       "    }\n",
       "\n",
       "    .dataframe thead th {\n",
       "        text-align: right;\n",
       "    }\n",
       "</style>\n",
       "<table border=\"1\" class=\"dataframe\">\n",
       "  <thead>\n",
       "    <tr style=\"text-align: right;\">\n",
       "      <th></th>\n",
       "      <th>Invoice</th>\n",
       "      <th>StockCode</th>\n",
       "      <th>Description</th>\n",
       "      <th>Quantity</th>\n",
       "      <th>InvoiceDate</th>\n",
       "      <th>Price</th>\n",
       "      <th>Customer ID</th>\n",
       "      <th>Country</th>\n",
       "      <th>Year</th>\n",
       "      <th>Month</th>\n",
       "    </tr>\n",
       "  </thead>\n",
       "  <tbody>\n",
       "    <tr>\n",
       "      <th>0</th>\n",
       "      <td>489434</td>\n",
       "      <td>85048</td>\n",
       "      <td>15CM CHRISTMAS GLASS BALL 20 LIGHTS</td>\n",
       "      <td>12</td>\n",
       "      <td>2009-12-01 07:45:00</td>\n",
       "      <td>6.95</td>\n",
       "      <td>13085</td>\n",
       "      <td>United Kingdom</td>\n",
       "      <td>2009</td>\n",
       "      <td>12</td>\n",
       "    </tr>\n",
       "    <tr>\n",
       "      <th>1</th>\n",
       "      <td>489434</td>\n",
       "      <td>79323P</td>\n",
       "      <td>PINK CHERRY LIGHTS</td>\n",
       "      <td>12</td>\n",
       "      <td>2009-12-01 07:45:00</td>\n",
       "      <td>6.75</td>\n",
       "      <td>13085</td>\n",
       "      <td>United Kingdom</td>\n",
       "      <td>2009</td>\n",
       "      <td>12</td>\n",
       "    </tr>\n",
       "    <tr>\n",
       "      <th>2</th>\n",
       "      <td>489434</td>\n",
       "      <td>79323W</td>\n",
       "      <td>WHITE CHERRY LIGHTS</td>\n",
       "      <td>12</td>\n",
       "      <td>2009-12-01 07:45:00</td>\n",
       "      <td>6.75</td>\n",
       "      <td>13085</td>\n",
       "      <td>United Kingdom</td>\n",
       "      <td>2009</td>\n",
       "      <td>12</td>\n",
       "    </tr>\n",
       "    <tr>\n",
       "      <th>3</th>\n",
       "      <td>489434</td>\n",
       "      <td>22041</td>\n",
       "      <td>RECORD FRAME 7\" SINGLE SIZE</td>\n",
       "      <td>48</td>\n",
       "      <td>2009-12-01 07:45:00</td>\n",
       "      <td>2.10</td>\n",
       "      <td>13085</td>\n",
       "      <td>United Kingdom</td>\n",
       "      <td>2009</td>\n",
       "      <td>12</td>\n",
       "    </tr>\n",
       "    <tr>\n",
       "      <th>4</th>\n",
       "      <td>489434</td>\n",
       "      <td>21232</td>\n",
       "      <td>STRAWBERRY CERAMIC TRINKET BOX</td>\n",
       "      <td>24</td>\n",
       "      <td>2009-12-01 07:45:00</td>\n",
       "      <td>1.25</td>\n",
       "      <td>13085</td>\n",
       "      <td>United Kingdom</td>\n",
       "      <td>2009</td>\n",
       "      <td>12</td>\n",
       "    </tr>\n",
       "  </tbody>\n",
       "</table>\n",
       "</div>"
      ],
      "text/plain": [
       "  Invoice StockCode                          Description  Quantity  \\\n",
       "0  489434     85048  15CM CHRISTMAS GLASS BALL 20 LIGHTS        12   \n",
       "1  489434    79323P                   PINK CHERRY LIGHTS        12   \n",
       "2  489434    79323W                  WHITE CHERRY LIGHTS        12   \n",
       "3  489434     22041         RECORD FRAME 7\" SINGLE SIZE         48   \n",
       "4  489434     21232       STRAWBERRY CERAMIC TRINKET BOX        24   \n",
       "\n",
       "          InvoiceDate  Price Customer ID         Country  Year  Month  \n",
       "0 2009-12-01 07:45:00   6.95       13085  United Kingdom  2009     12  \n",
       "1 2009-12-01 07:45:00   6.75       13085  United Kingdom  2009     12  \n",
       "2 2009-12-01 07:45:00   6.75       13085  United Kingdom  2009     12  \n",
       "3 2009-12-01 07:45:00   2.10       13085  United Kingdom  2009     12  \n",
       "4 2009-12-01 07:45:00   1.25       13085  United Kingdom  2009     12  "
      ]
     },
     "execution_count": 22,
     "metadata": {},
     "output_type": "execute_result"
    }
   ],
   "source": [
    "df.head()"
   ]
  },
  {
   "cell_type": "code",
   "execution_count": 23,
   "id": "da38c19e",
   "metadata": {},
   "outputs": [
    {
     "data": {
      "text/plain": [
       "Year  Month\n",
       "2009  12       1512\n",
       "2010  1        1011\n",
       "      2        1106\n",
       "      3        1524\n",
       "      4        1329\n",
       "      5        1377\n",
       "      6        1497\n",
       "      7        1381\n",
       "      8        1293\n",
       "      9        1689\n",
       "      10       2133\n",
       "      11       2587\n",
       "      12        776\n",
       "Name: Invoice, dtype: int64"
      ]
     },
     "execution_count": 23,
     "metadata": {},
     "output_type": "execute_result"
    }
   ],
   "source": [
    "df_monthly = df.groupby(['Year','Month'])['Invoice'].nunique()\n",
    "df_monthly"
   ]
  },
  {
   "cell_type": "code",
   "execution_count": 24,
   "id": "d942802b",
   "metadata": {},
   "outputs": [
    {
     "data": {
      "text/plain": [
       "Text(0.5, 0, 'Month')"
      ]
     },
     "execution_count": 24,
     "metadata": {},
     "output_type": "execute_result"
    },
    {
     "data": {
      "image/png": "[encoded data removed]",
      "text/plain": [
       "<Figure size 800x400 with 1 Axes>"
      ]
     },
     "metadata": {},
     "output_type": "display_data"
    }
   ],
   "source": [
    "fig, ax = plt.subplots(figsize=(8,4))\n",
    "df_monthly.plot(ax=ax)\n",
    "ax.set_title('Monthly Count of Transaction')\n",
    "ax.set_ylabel('Count of Transaction')\n",
    "ax.set_xlabel('Month')"
   ]
  },
  {
   "cell_type": "markdown",
   "id": "b8152b5a",
   "metadata": {},
   "source": [
    "We see a couple of interesting findings here.\n",
    "\n",
    "1. Eventhough the data description states that the transactions ranges from 01/12/2009 to 09/12/2011, we see that we only have transactions up to December 2010. In this case, will continue our analysis with just the 1-year worth of transaction.\n",
    "\n",
    "2. There is an overall increase in transactions (possible more revenue as well) from the past year. It also shows that transactions peaks towards the end of the year, possibly due to more customers purchasing christmas presents."
   ]
  },
  {
   "cell_type": "markdown",
   "id": "d7b0119d",
   "metadata": {},
   "source": [
    "# COHORT ANALYSIS\n",
    "\n",
    "After doing a quick data exploration with our data, we can now proceed with the Cohort Analysis.\n",
    "\n",
    "In this case, we want to get insights based on user retention. To do this, we set the customer cohorts based on the month of their first transactions we then track their purchases throughout the year."
   ]
  },
  {
   "cell_type": "markdown",
   "id": "cb717f23",
   "metadata": {},
   "source": [
    "We first select only the relevant columns and drop duplicates (since it is possible to have multiple stock codes per invoice)"
   ]
  },
  {
   "cell_type": "code",
   "execution_count": 25,
   "id": "6ce4186f",
   "metadata": {},
   "outputs": [
    {
     "data": {
      "text/html": [
       "<div>\n",
       "<style scoped>\n",
       "    .dataframe tbody tr th:only-of-type {\n",
       "        vertical-align: middle;\n",
       "    }\n",
       "\n",
       "    .dataframe tbody tr th {\n",
       "        vertical-align: top;\n",
       "    }\n",
       "\n",
       "    .dataframe thead th {\n",
       "        text-align: right;\n",
       "    }\n",
       "</style>\n",
       "<table border=\"1\" class=\"dataframe\">\n",
       "  <thead>\n",
       "    <tr style=\"text-align: right;\">\n",
       "      <th></th>\n",
       "      <th>Invoice</th>\n",
       "      <th>StockCode</th>\n",
       "      <th>Description</th>\n",
       "      <th>Quantity</th>\n",
       "      <th>InvoiceDate</th>\n",
       "      <th>Price</th>\n",
       "      <th>Customer ID</th>\n",
       "      <th>Country</th>\n",
       "      <th>Year</th>\n",
       "      <th>Month</th>\n",
       "    </tr>\n",
       "  </thead>\n",
       "  <tbody>\n",
       "    <tr>\n",
       "      <th>0</th>\n",
       "      <td>489434</td>\n",
       "      <td>85048</td>\n",
       "      <td>15CM CHRISTMAS GLASS BALL 20 LIGHTS</td>\n",
       "      <td>12</td>\n",
       "      <td>2009-12-01 07:45:00</td>\n",
       "      <td>6.95</td>\n",
       "      <td>13085</td>\n",
       "      <td>United Kingdom</td>\n",
       "      <td>2009</td>\n",
       "      <td>12</td>\n",
       "    </tr>\n",
       "    <tr>\n",
       "      <th>1</th>\n",
       "      <td>489434</td>\n",
       "      <td>79323P</td>\n",
       "      <td>PINK CHERRY LIGHTS</td>\n",
       "      <td>12</td>\n",
       "      <td>2009-12-01 07:45:00</td>\n",
       "      <td>6.75</td>\n",
       "      <td>13085</td>\n",
       "      <td>United Kingdom</td>\n",
       "      <td>2009</td>\n",
       "      <td>12</td>\n",
       "    </tr>\n",
       "  </tbody>\n",
       "</table>\n",
       "</div>"
      ],
      "text/plain": [
       "  Invoice StockCode                          Description  Quantity  \\\n",
       "0  489434     85048  15CM CHRISTMAS GLASS BALL 20 LIGHTS        12   \n",
       "1  489434    79323P                   PINK CHERRY LIGHTS        12   \n",
       "\n",
       "          InvoiceDate  Price Customer ID         Country  Year  Month  \n",
       "0 2009-12-01 07:45:00   6.95       13085  United Kingdom  2009     12  \n",
       "1 2009-12-01 07:45:00   6.75       13085  United Kingdom  2009     12  "
      ]
     },
     "execution_count": 25,
     "metadata": {},
     "output_type": "execute_result"
    }
   ],
   "source": [
    "df.head(2)"
   ]
  },
  {
   "cell_type": "code",
   "execution_count": 26,
   "id": "c16899a4",
   "metadata": {},
   "outputs": [],
   "source": [
    "df_cohorts = df[['Customer ID','Invoice','InvoiceDate']].drop_duplicates()"
   ]
  },
  {
   "cell_type": "code",
   "execution_count": 27,
   "id": "9f1fd3ea",
   "metadata": {},
   "outputs": [
    {
     "data": {
      "text/html": [
       "<div>\n",
       "<style scoped>\n",
       "    .dataframe tbody tr th:only-of-type {\n",
       "        vertical-align: middle;\n",
       "    }\n",
       "\n",
       "    .dataframe tbody tr th {\n",
       "        vertical-align: top;\n",
       "    }\n",
       "\n",
       "    .dataframe thead th {\n",
       "        text-align: right;\n",
       "    }\n",
       "</style>\n",
       "<table border=\"1\" class=\"dataframe\">\n",
       "  <thead>\n",
       "    <tr style=\"text-align: right;\">\n",
       "      <th></th>\n",
       "      <th>Customer ID</th>\n",
       "      <th>Invoice</th>\n",
       "      <th>InvoiceDate</th>\n",
       "    </tr>\n",
       "  </thead>\n",
       "  <tbody>\n",
       "    <tr>\n",
       "      <th>0</th>\n",
       "      <td>13085</td>\n",
       "      <td>489434</td>\n",
       "      <td>2009-12-01 07:45:00</td>\n",
       "    </tr>\n",
       "    <tr>\n",
       "      <th>8</th>\n",
       "      <td>13085</td>\n",
       "      <td>489435</td>\n",
       "      <td>2009-12-01 07:46:00</td>\n",
       "    </tr>\n",
       "    <tr>\n",
       "      <th>12</th>\n",
       "      <td>13078</td>\n",
       "      <td>489436</td>\n",
       "      <td>2009-12-01 09:06:00</td>\n",
       "    </tr>\n",
       "    <tr>\n",
       "      <th>31</th>\n",
       "      <td>15362</td>\n",
       "      <td>489437</td>\n",
       "      <td>2009-12-01 09:08:00</td>\n",
       "    </tr>\n",
       "    <tr>\n",
       "      <th>54</th>\n",
       "      <td>18102</td>\n",
       "      <td>489438</td>\n",
       "      <td>2009-12-01 09:24:00</td>\n",
       "    </tr>\n",
       "  </tbody>\n",
       "</table>\n",
       "</div>"
      ],
      "text/plain": [
       "   Customer ID Invoice         InvoiceDate\n",
       "0        13085  489434 2009-12-01 07:45:00\n",
       "8        13085  489435 2009-12-01 07:46:00\n",
       "12       13078  489436 2009-12-01 09:06:00\n",
       "31       15362  489437 2009-12-01 09:08:00\n",
       "54       18102  489438 2009-12-01 09:24:00"
      ]
     },
     "execution_count": 27,
     "metadata": {},
     "output_type": "execute_result"
    }
   ],
   "source": [
    "df_cohorts.head()"
   ]
  },
  {
   "cell_type": "code",
   "execution_count": 28,
   "id": "39b783fc",
   "metadata": {},
   "outputs": [
    {
     "data": {
      "text/plain": [
       "Customer ID    19250\n",
       "Invoice        19250\n",
       "InvoiceDate    19250\n",
       "dtype: int64"
      ]
     },
     "execution_count": 28,
     "metadata": {},
     "output_type": "execute_result"
    }
   ],
   "source": [
    "df_cohorts.count()"
   ]
  },
  {
   "cell_type": "markdown",
   "id": "d38d5105",
   "metadata": {},
   "source": [
    "Next, we create a cohort column based on the first transaction of each customer."
   ]
  },
  {
   "cell_type": "code",
   "execution_count": 29,
   "id": "eb252147",
   "metadata": {},
   "outputs": [
    {
     "data": {
      "text/html": [
       "<div>\n",
       "<style scoped>\n",
       "    .dataframe tbody tr th:only-of-type {\n",
       "        vertical-align: middle;\n",
       "    }\n",
       "\n",
       "    .dataframe tbody tr th {\n",
       "        vertical-align: top;\n",
       "    }\n",
       "\n",
       "    .dataframe thead th {\n",
       "        text-align: right;\n",
       "    }\n",
       "</style>\n",
       "<table border=\"1\" class=\"dataframe\">\n",
       "  <thead>\n",
       "    <tr style=\"text-align: right;\">\n",
       "      <th></th>\n",
       "      <th>Customer ID</th>\n",
       "      <th>cohort</th>\n",
       "    </tr>\n",
       "  </thead>\n",
       "  <tbody>\n",
       "    <tr>\n",
       "      <th>0</th>\n",
       "      <td>12346</td>\n",
       "      <td>2009-12</td>\n",
       "    </tr>\n",
       "    <tr>\n",
       "      <th>1</th>\n",
       "      <td>12347</td>\n",
       "      <td>2010-10</td>\n",
       "    </tr>\n",
       "    <tr>\n",
       "      <th>2</th>\n",
       "      <td>12348</td>\n",
       "      <td>2010-09</td>\n",
       "    </tr>\n",
       "    <tr>\n",
       "      <th>3</th>\n",
       "      <td>12349</td>\n",
       "      <td>2010-04</td>\n",
       "    </tr>\n",
       "    <tr>\n",
       "      <th>4</th>\n",
       "      <td>12351</td>\n",
       "      <td>2010-11</td>\n",
       "    </tr>\n",
       "    <tr>\n",
       "      <th>5</th>\n",
       "      <td>12352</td>\n",
       "      <td>2010-11</td>\n",
       "    </tr>\n",
       "    <tr>\n",
       "      <th>6</th>\n",
       "      <td>12353</td>\n",
       "      <td>2010-10</td>\n",
       "    </tr>\n",
       "    <tr>\n",
       "      <th>7</th>\n",
       "      <td>12355</td>\n",
       "      <td>2010-05</td>\n",
       "    </tr>\n",
       "    <tr>\n",
       "      <th>8</th>\n",
       "      <td>12356</td>\n",
       "      <td>2010-10</td>\n",
       "    </tr>\n",
       "    <tr>\n",
       "      <th>9</th>\n",
       "      <td>12357</td>\n",
       "      <td>2010-11</td>\n",
       "    </tr>\n",
       "  </tbody>\n",
       "</table>\n",
       "</div>"
      ],
      "text/plain": [
       "  Customer ID   cohort\n",
       "0       12346  2009-12\n",
       "1       12347  2010-10\n",
       "2       12348  2010-09\n",
       "3       12349  2010-04\n",
       "4       12351  2010-11\n",
       "5       12352  2010-11\n",
       "6       12353  2010-10\n",
       "7       12355  2010-05\n",
       "8       12356  2010-10\n",
       "9       12357  2010-11"
      ]
     },
     "execution_count": 29,
     "metadata": {},
     "output_type": "execute_result"
    }
   ],
   "source": [
    "df_first_txn = df_cohorts.groupby('Customer ID')['InvoiceDate'].min().dt.to_period('M')\n",
    "df_first_txn.name = 'cohort'\n",
    "df_first_txn = df_first_txn.reset_index()\n",
    "df_first_txn.head(10)"
   ]
  },
  {
   "cell_type": "markdown",
   "id": "4c5c9c9c",
   "metadata": {},
   "source": [
    "    Merging the created dataframe with original dataframe"
   ]
  },
  {
   "cell_type": "code",
   "execution_count": 30,
   "id": "c50387a5",
   "metadata": {},
   "outputs": [
    {
     "data": {
      "text/html": [
       "<div>\n",
       "<style scoped>\n",
       "    .dataframe tbody tr th:only-of-type {\n",
       "        vertical-align: middle;\n",
       "    }\n",
       "\n",
       "    .dataframe tbody tr th {\n",
       "        vertical-align: top;\n",
       "    }\n",
       "\n",
       "    .dataframe thead th {\n",
       "        text-align: right;\n",
       "    }\n",
       "</style>\n",
       "<table border=\"1\" class=\"dataframe\">\n",
       "  <thead>\n",
       "    <tr style=\"text-align: right;\">\n",
       "      <th></th>\n",
       "      <th>Customer ID</th>\n",
       "      <th>cohort</th>\n",
       "    </tr>\n",
       "  </thead>\n",
       "  <tbody>\n",
       "    <tr>\n",
       "      <th>0</th>\n",
       "      <td>12346</td>\n",
       "      <td>2009-12</td>\n",
       "    </tr>\n",
       "  </tbody>\n",
       "</table>\n",
       "</div>"
      ],
      "text/plain": [
       "  Customer ID   cohort\n",
       "0       12346  2009-12"
      ]
     },
     "execution_count": 30,
     "metadata": {},
     "output_type": "execute_result"
    }
   ],
   "source": [
    "df_first_txn.head(1)"
   ]
  },
  {
   "cell_type": "code",
   "execution_count": 31,
   "id": "25a518f4",
   "metadata": {},
   "outputs": [
    {
     "data": {
      "text/html": [
       "<div>\n",
       "<style scoped>\n",
       "    .dataframe tbody tr th:only-of-type {\n",
       "        vertical-align: middle;\n",
       "    }\n",
       "\n",
       "    .dataframe tbody tr th {\n",
       "        vertical-align: top;\n",
       "    }\n",
       "\n",
       "    .dataframe thead th {\n",
       "        text-align: right;\n",
       "    }\n",
       "</style>\n",
       "<table border=\"1\" class=\"dataframe\">\n",
       "  <thead>\n",
       "    <tr style=\"text-align: right;\">\n",
       "      <th></th>\n",
       "      <th>Customer ID</th>\n",
       "      <th>Invoice</th>\n",
       "      <th>InvoiceDate</th>\n",
       "    </tr>\n",
       "  </thead>\n",
       "  <tbody>\n",
       "    <tr>\n",
       "      <th>0</th>\n",
       "      <td>13085</td>\n",
       "      <td>489434</td>\n",
       "      <td>2009-12-01 07:45:00</td>\n",
       "    </tr>\n",
       "  </tbody>\n",
       "</table>\n",
       "</div>"
      ],
      "text/plain": [
       "  Customer ID Invoice         InvoiceDate\n",
       "0       13085  489434 2009-12-01 07:45:00"
      ]
     },
     "execution_count": 31,
     "metadata": {},
     "output_type": "execute_result"
    }
   ],
   "source": [
    "df_cohorts.head(1)"
   ]
  },
  {
   "cell_type": "code",
   "execution_count": 32,
   "id": "1414104b",
   "metadata": {},
   "outputs": [
    {
     "data": {
      "text/html": [
       "<div>\n",
       "<style scoped>\n",
       "    .dataframe tbody tr th:only-of-type {\n",
       "        vertical-align: middle;\n",
       "    }\n",
       "\n",
       "    .dataframe tbody tr th {\n",
       "        vertical-align: top;\n",
       "    }\n",
       "\n",
       "    .dataframe thead th {\n",
       "        text-align: right;\n",
       "    }\n",
       "</style>\n",
       "<table border=\"1\" class=\"dataframe\">\n",
       "  <thead>\n",
       "    <tr style=\"text-align: right;\">\n",
       "      <th></th>\n",
       "      <th>Customer ID</th>\n",
       "      <th>Invoice</th>\n",
       "      <th>InvoiceDate</th>\n",
       "      <th>cohort</th>\n",
       "    </tr>\n",
       "  </thead>\n",
       "  <tbody>\n",
       "    <tr>\n",
       "      <th>19240</th>\n",
       "      <td>15555</td>\n",
       "      <td>538156</td>\n",
       "      <td>2010-12-09 16:53:00</td>\n",
       "      <td>2009-12</td>\n",
       "    </tr>\n",
       "    <tr>\n",
       "      <th>19241</th>\n",
       "      <td>17576</td>\n",
       "      <td>538157</td>\n",
       "      <td>2010-12-09 16:57:00</td>\n",
       "      <td>2009-12</td>\n",
       "    </tr>\n",
       "    <tr>\n",
       "      <th>19242</th>\n",
       "      <td>17841</td>\n",
       "      <td>538163</td>\n",
       "      <td>2010-12-09 17:27:00</td>\n",
       "      <td>2009-12</td>\n",
       "    </tr>\n",
       "    <tr>\n",
       "      <th>19243</th>\n",
       "      <td>14031</td>\n",
       "      <td>538165</td>\n",
       "      <td>2010-12-09 17:34:00</td>\n",
       "      <td>2009-12</td>\n",
       "    </tr>\n",
       "    <tr>\n",
       "      <th>19244</th>\n",
       "      <td>17965</td>\n",
       "      <td>538166</td>\n",
       "      <td>2010-12-09 18:09:00</td>\n",
       "      <td>2009-12</td>\n",
       "    </tr>\n",
       "    <tr>\n",
       "      <th>19245</th>\n",
       "      <td>14713</td>\n",
       "      <td>538167</td>\n",
       "      <td>2010-12-09 18:58:00</td>\n",
       "      <td>2009-12</td>\n",
       "    </tr>\n",
       "    <tr>\n",
       "      <th>19246</th>\n",
       "      <td>14702</td>\n",
       "      <td>538168</td>\n",
       "      <td>2010-12-09 19:23:00</td>\n",
       "      <td>2009-12</td>\n",
       "    </tr>\n",
       "    <tr>\n",
       "      <th>19247</th>\n",
       "      <td>13230</td>\n",
       "      <td>538169</td>\n",
       "      <td>2010-12-09 19:28:00</td>\n",
       "      <td>2010-03</td>\n",
       "    </tr>\n",
       "    <tr>\n",
       "      <th>19248</th>\n",
       "      <td>13969</td>\n",
       "      <td>538170</td>\n",
       "      <td>2010-12-09 19:32:00</td>\n",
       "      <td>2010-03</td>\n",
       "    </tr>\n",
       "    <tr>\n",
       "      <th>19249</th>\n",
       "      <td>17530</td>\n",
       "      <td>538171</td>\n",
       "      <td>2010-12-09 20:01:00</td>\n",
       "      <td>2009-12</td>\n",
       "    </tr>\n",
       "  </tbody>\n",
       "</table>\n",
       "</div>"
      ],
      "text/plain": [
       "      Customer ID Invoice         InvoiceDate   cohort\n",
       "19240       15555  538156 2010-12-09 16:53:00  2009-12\n",
       "19241       17576  538157 2010-12-09 16:57:00  2009-12\n",
       "19242       17841  538163 2010-12-09 17:27:00  2009-12\n",
       "19243       14031  538165 2010-12-09 17:34:00  2009-12\n",
       "19244       17965  538166 2010-12-09 18:09:00  2009-12\n",
       "19245       14713  538167 2010-12-09 18:58:00  2009-12\n",
       "19246       14702  538168 2010-12-09 19:23:00  2009-12\n",
       "19247       13230  538169 2010-12-09 19:28:00  2010-03\n",
       "19248       13969  538170 2010-12-09 19:32:00  2010-03\n",
       "19249       17530  538171 2010-12-09 20:01:00  2009-12"
      ]
     },
     "execution_count": 32,
     "metadata": {},
     "output_type": "execute_result"
    }
   ],
   "source": [
    "df_cohorts = df_cohorts.merge(df_first_txn, how='left', on=['Customer ID'])\n",
    "df_cohorts.tail(10)"
   ]
  },
  {
   "cell_type": "markdown",
   "id": "b1002fed",
   "metadata": {},
   "source": [
    "In the sample table above, we see that even if the InvoiceDate is on December 2010, some customers have their first transaction as far back as on December 2009.\n",
    "\n",
    "Next, we convert the InvoiceDate column to a year-month variable (txn_month)"
   ]
  },
  {
   "cell_type": "code",
   "execution_count": 33,
   "id": "8bf7b735",
   "metadata": {},
   "outputs": [
    {
     "data": {
      "text/html": [
       "<div>\n",
       "<style scoped>\n",
       "    .dataframe tbody tr th:only-of-type {\n",
       "        vertical-align: middle;\n",
       "    }\n",
       "\n",
       "    .dataframe tbody tr th {\n",
       "        vertical-align: top;\n",
       "    }\n",
       "\n",
       "    .dataframe thead th {\n",
       "        text-align: right;\n",
       "    }\n",
       "</style>\n",
       "<table border=\"1\" class=\"dataframe\">\n",
       "  <thead>\n",
       "    <tr style=\"text-align: right;\">\n",
       "      <th></th>\n",
       "      <th>Customer ID</th>\n",
       "      <th>Invoice</th>\n",
       "      <th>InvoiceDate</th>\n",
       "      <th>cohort</th>\n",
       "      <th>txn_month</th>\n",
       "    </tr>\n",
       "  </thead>\n",
       "  <tbody>\n",
       "    <tr>\n",
       "      <th>0</th>\n",
       "      <td>13085</td>\n",
       "      <td>489434</td>\n",
       "      <td>2009-12-01 07:45:00</td>\n",
       "      <td>2009-12</td>\n",
       "      <td>2009-12</td>\n",
       "    </tr>\n",
       "    <tr>\n",
       "      <th>1</th>\n",
       "      <td>13085</td>\n",
       "      <td>489435</td>\n",
       "      <td>2009-12-01 07:46:00</td>\n",
       "      <td>2009-12</td>\n",
       "      <td>2009-12</td>\n",
       "    </tr>\n",
       "    <tr>\n",
       "      <th>2</th>\n",
       "      <td>13078</td>\n",
       "      <td>489436</td>\n",
       "      <td>2009-12-01 09:06:00</td>\n",
       "      <td>2009-12</td>\n",
       "      <td>2009-12</td>\n",
       "    </tr>\n",
       "    <tr>\n",
       "      <th>3</th>\n",
       "      <td>15362</td>\n",
       "      <td>489437</td>\n",
       "      <td>2009-12-01 09:08:00</td>\n",
       "      <td>2009-12</td>\n",
       "      <td>2009-12</td>\n",
       "    </tr>\n",
       "    <tr>\n",
       "      <th>4</th>\n",
       "      <td>18102</td>\n",
       "      <td>489438</td>\n",
       "      <td>2009-12-01 09:24:00</td>\n",
       "      <td>2009-12</td>\n",
       "      <td>2009-12</td>\n",
       "    </tr>\n",
       "  </tbody>\n",
       "</table>\n",
       "</div>"
      ],
      "text/plain": [
       "  Customer ID Invoice         InvoiceDate   cohort txn_month\n",
       "0       13085  489434 2009-12-01 07:45:00  2009-12   2009-12\n",
       "1       13085  489435 2009-12-01 07:46:00  2009-12   2009-12\n",
       "2       13078  489436 2009-12-01 09:06:00  2009-12   2009-12\n",
       "3       15362  489437 2009-12-01 09:08:00  2009-12   2009-12\n",
       "4       18102  489438 2009-12-01 09:24:00  2009-12   2009-12"
      ]
     },
     "execution_count": 33,
     "metadata": {},
     "output_type": "execute_result"
    }
   ],
   "source": [
    "df_cohorts['txn_month'] = df_cohorts['InvoiceDate'].dt.to_period('M')\n",
    "df_cohorts.head(5)"
   ]
  },
  {
   "cell_type": "markdown",
   "id": "cbdc25dc",
   "metadata": {},
   "source": [
    "We now have a cohort column corresponding to the year-month of a customers' first transaction and a txn_month column corresponding to the actual year-month of the transaction.\n",
    "\n",
    "We can now view our cohorts. We group the table by cohort and txn_month and get the counts of unique customer for each cohort."
   ]
  },
  {
   "cell_type": "code",
   "execution_count": 34,
   "id": "834d018a",
   "metadata": {},
   "outputs": [
    {
     "data": {
      "text/html": [
       "<div>\n",
       "<style scoped>\n",
       "    .dataframe tbody tr th:only-of-type {\n",
       "        vertical-align: middle;\n",
       "    }\n",
       "\n",
       "    .dataframe tbody tr th {\n",
       "        vertical-align: top;\n",
       "    }\n",
       "\n",
       "    .dataframe thead th {\n",
       "        text-align: right;\n",
       "    }\n",
       "</style>\n",
       "<table border=\"1\" class=\"dataframe\">\n",
       "  <thead>\n",
       "    <tr style=\"text-align: right;\">\n",
       "      <th></th>\n",
       "      <th>cohort</th>\n",
       "      <th>txn_month</th>\n",
       "      <th>num_customers</th>\n",
       "    </tr>\n",
       "  </thead>\n",
       "  <tbody>\n",
       "    <tr>\n",
       "      <th>0</th>\n",
       "      <td>2009-12</td>\n",
       "      <td>2009-12</td>\n",
       "      <td>955</td>\n",
       "    </tr>\n",
       "    <tr>\n",
       "      <th>1</th>\n",
       "      <td>2009-12</td>\n",
       "      <td>2010-01</td>\n",
       "      <td>337</td>\n",
       "    </tr>\n",
       "    <tr>\n",
       "      <th>2</th>\n",
       "      <td>2009-12</td>\n",
       "      <td>2010-02</td>\n",
       "      <td>319</td>\n",
       "    </tr>\n",
       "    <tr>\n",
       "      <th>3</th>\n",
       "      <td>2009-12</td>\n",
       "      <td>2010-03</td>\n",
       "      <td>406</td>\n",
       "    </tr>\n",
       "    <tr>\n",
       "      <th>4</th>\n",
       "      <td>2009-12</td>\n",
       "      <td>2010-04</td>\n",
       "      <td>363</td>\n",
       "    </tr>\n",
       "    <tr>\n",
       "      <th>5</th>\n",
       "      <td>2009-12</td>\n",
       "      <td>2010-05</td>\n",
       "      <td>343</td>\n",
       "    </tr>\n",
       "    <tr>\n",
       "      <th>6</th>\n",
       "      <td>2009-12</td>\n",
       "      <td>2010-06</td>\n",
       "      <td>360</td>\n",
       "    </tr>\n",
       "    <tr>\n",
       "      <th>7</th>\n",
       "      <td>2009-12</td>\n",
       "      <td>2010-07</td>\n",
       "      <td>327</td>\n",
       "    </tr>\n",
       "    <tr>\n",
       "      <th>8</th>\n",
       "      <td>2009-12</td>\n",
       "      <td>2010-08</td>\n",
       "      <td>321</td>\n",
       "    </tr>\n",
       "    <tr>\n",
       "      <th>9</th>\n",
       "      <td>2009-12</td>\n",
       "      <td>2010-09</td>\n",
       "      <td>346</td>\n",
       "    </tr>\n",
       "  </tbody>\n",
       "</table>\n",
       "</div>"
      ],
      "text/plain": [
       "    cohort txn_month  num_customers\n",
       "0  2009-12   2009-12            955\n",
       "1  2009-12   2010-01            337\n",
       "2  2009-12   2010-02            319\n",
       "3  2009-12   2010-03            406\n",
       "4  2009-12   2010-04            363\n",
       "5  2009-12   2010-05            343\n",
       "6  2009-12   2010-06            360\n",
       "7  2009-12   2010-07            327\n",
       "8  2009-12   2010-08            321\n",
       "9  2009-12   2010-09            346"
      ]
     },
     "execution_count": 34,
     "metadata": {},
     "output_type": "execute_result"
    }
   ],
   "source": [
    "df_cohorts = df_cohorts.groupby(['cohort','txn_month'])['Customer ID'].nunique()\n",
    "df_cohorts.name = 'num_customers'\n",
    "df_cohorts = df_cohorts.reset_index()\n",
    "df_cohorts.head(10)"
   ]
  },
  {
   "cell_type": "markdown",
   "id": "9cc8abbe",
   "metadata": {},
   "source": [
    "The resulting table shows the number of customers who had their first purchase in their cohorts and the customers for each succeeding month. For example, their are 346 customers who had their first purchase on December 2009 but they also had a transaction on September 2010.\n",
    "\n",
    "Let's add a period number column which corresponds to the number of months since their first purchase"
   ]
  },
  {
   "cell_type": "code",
   "execution_count": 35,
   "id": "5de5ff30",
   "metadata": {},
   "outputs": [
    {
     "data": {
      "text/html": [
       "<div>\n",
       "<style scoped>\n",
       "    .dataframe tbody tr th:only-of-type {\n",
       "        vertical-align: middle;\n",
       "    }\n",
       "\n",
       "    .dataframe tbody tr th {\n",
       "        vertical-align: top;\n",
       "    }\n",
       "\n",
       "    .dataframe thead th {\n",
       "        text-align: right;\n",
       "    }\n",
       "</style>\n",
       "<table border=\"1\" class=\"dataframe\">\n",
       "  <thead>\n",
       "    <tr style=\"text-align: right;\">\n",
       "      <th></th>\n",
       "      <th>cohort</th>\n",
       "      <th>txn_month</th>\n",
       "      <th>num_customers</th>\n",
       "      <th>period_number</th>\n",
       "    </tr>\n",
       "  </thead>\n",
       "  <tbody>\n",
       "    <tr>\n",
       "      <th>0</th>\n",
       "      <td>2009-12</td>\n",
       "      <td>2009-12</td>\n",
       "      <td>955</td>\n",
       "      <td>0</td>\n",
       "    </tr>\n",
       "    <tr>\n",
       "      <th>1</th>\n",
       "      <td>2009-12</td>\n",
       "      <td>2010-01</td>\n",
       "      <td>337</td>\n",
       "      <td>1</td>\n",
       "    </tr>\n",
       "    <tr>\n",
       "      <th>2</th>\n",
       "      <td>2009-12</td>\n",
       "      <td>2010-02</td>\n",
       "      <td>319</td>\n",
       "      <td>2</td>\n",
       "    </tr>\n",
       "    <tr>\n",
       "      <th>3</th>\n",
       "      <td>2009-12</td>\n",
       "      <td>2010-03</td>\n",
       "      <td>406</td>\n",
       "      <td>3</td>\n",
       "    </tr>\n",
       "    <tr>\n",
       "      <th>4</th>\n",
       "      <td>2009-12</td>\n",
       "      <td>2010-04</td>\n",
       "      <td>363</td>\n",
       "      <td>4</td>\n",
       "    </tr>\n",
       "    <tr>\n",
       "      <th>5</th>\n",
       "      <td>2009-12</td>\n",
       "      <td>2010-05</td>\n",
       "      <td>343</td>\n",
       "      <td>5</td>\n",
       "    </tr>\n",
       "    <tr>\n",
       "      <th>6</th>\n",
       "      <td>2009-12</td>\n",
       "      <td>2010-06</td>\n",
       "      <td>360</td>\n",
       "      <td>6</td>\n",
       "    </tr>\n",
       "    <tr>\n",
       "      <th>7</th>\n",
       "      <td>2009-12</td>\n",
       "      <td>2010-07</td>\n",
       "      <td>327</td>\n",
       "      <td>7</td>\n",
       "    </tr>\n",
       "    <tr>\n",
       "      <th>8</th>\n",
       "      <td>2009-12</td>\n",
       "      <td>2010-08</td>\n",
       "      <td>321</td>\n",
       "      <td>8</td>\n",
       "    </tr>\n",
       "    <tr>\n",
       "      <th>9</th>\n",
       "      <td>2009-12</td>\n",
       "      <td>2010-09</td>\n",
       "      <td>346</td>\n",
       "      <td>9</td>\n",
       "    </tr>\n",
       "  </tbody>\n",
       "</table>\n",
       "</div>"
      ],
      "text/plain": [
       "    cohort txn_month  num_customers  period_number\n",
       "0  2009-12   2009-12            955              0\n",
       "1  2009-12   2010-01            337              1\n",
       "2  2009-12   2010-02            319              2\n",
       "3  2009-12   2010-03            406              3\n",
       "4  2009-12   2010-04            363              4\n",
       "5  2009-12   2010-05            343              5\n",
       "6  2009-12   2010-06            360              6\n",
       "7  2009-12   2010-07            327              7\n",
       "8  2009-12   2010-08            321              8\n",
       "9  2009-12   2010-09            346              9"
      ]
     },
     "execution_count": 35,
     "metadata": {},
     "output_type": "execute_result"
    }
   ],
   "source": [
    "# subtract cohort from txn_month, this will result in a MonthEnd pandas datatype\n",
    "# to get the value as integer, we use the pandas apply function\n",
    "df_cohorts['period_number'] = (df_cohorts.txn_month - df_cohorts.cohort).apply(lambda x : x.n)\n",
    "df_cohorts.head(10)"
   ]
  },
  {
   "cell_type": "markdown",
   "id": "6cd8b2dd",
   "metadata": {},
   "source": [
    "Next, we pivot our table to get our cohorts as the index and the period number as the columns. This makes the data easier to visualize and interpret."
   ]
  },
  {
   "cell_type": "code",
   "execution_count": 36,
   "id": "1b20d75f",
   "metadata": {},
   "outputs": [
    {
     "data": {
      "text/html": [
       "<div>\n",
       "<style scoped>\n",
       "    .dataframe tbody tr th:only-of-type {\n",
       "        vertical-align: middle;\n",
       "    }\n",
       "\n",
       "    .dataframe tbody tr th {\n",
       "        vertical-align: top;\n",
       "    }\n",
       "\n",
       "    .dataframe thead th {\n",
       "        text-align: right;\n",
       "    }\n",
       "</style>\n",
       "<table border=\"1\" class=\"dataframe\">\n",
       "  <thead>\n",
       "    <tr style=\"text-align: right;\">\n",
       "      <th>period_number</th>\n",
       "      <th>0</th>\n",
       "      <th>1</th>\n",
       "      <th>2</th>\n",
       "      <th>3</th>\n",
       "      <th>4</th>\n",
       "      <th>5</th>\n",
       "      <th>6</th>\n",
       "      <th>7</th>\n",
       "      <th>8</th>\n",
       "      <th>9</th>\n",
       "      <th>10</th>\n",
       "      <th>11</th>\n",
       "      <th>12</th>\n",
       "    </tr>\n",
       "    <tr>\n",
       "      <th>cohort</th>\n",
       "      <th></th>\n",
       "      <th></th>\n",
       "      <th></th>\n",
       "      <th></th>\n",
       "      <th></th>\n",
       "      <th></th>\n",
       "      <th></th>\n",
       "      <th></th>\n",
       "      <th></th>\n",
       "      <th></th>\n",
       "      <th></th>\n",
       "      <th></th>\n",
       "      <th></th>\n",
       "    </tr>\n",
       "  </thead>\n",
       "  <tbody>\n",
       "    <tr>\n",
       "      <th>2009-12</th>\n",
       "      <td>955.0</td>\n",
       "      <td>337.0</td>\n",
       "      <td>319.0</td>\n",
       "      <td>406.0</td>\n",
       "      <td>363.0</td>\n",
       "      <td>343.0</td>\n",
       "      <td>360.0</td>\n",
       "      <td>327.0</td>\n",
       "      <td>321.0</td>\n",
       "      <td>346.0</td>\n",
       "      <td>403.0</td>\n",
       "      <td>473.0</td>\n",
       "      <td>237.0</td>\n",
       "    </tr>\n",
       "    <tr>\n",
       "      <th>2010-01</th>\n",
       "      <td>383.0</td>\n",
       "      <td>79.0</td>\n",
       "      <td>119.0</td>\n",
       "      <td>117.0</td>\n",
       "      <td>101.0</td>\n",
       "      <td>115.0</td>\n",
       "      <td>99.0</td>\n",
       "      <td>88.0</td>\n",
       "      <td>107.0</td>\n",
       "      <td>122.0</td>\n",
       "      <td>116.0</td>\n",
       "      <td>38.0</td>\n",
       "      <td>NaN</td>\n",
       "    </tr>\n",
       "    <tr>\n",
       "      <th>2010-02</th>\n",
       "      <td>376.0</td>\n",
       "      <td>89.0</td>\n",
       "      <td>84.0</td>\n",
       "      <td>109.0</td>\n",
       "      <td>92.0</td>\n",
       "      <td>75.0</td>\n",
       "      <td>72.0</td>\n",
       "      <td>107.0</td>\n",
       "      <td>95.0</td>\n",
       "      <td>103.0</td>\n",
       "      <td>27.0</td>\n",
       "      <td>NaN</td>\n",
       "      <td>NaN</td>\n",
       "    </tr>\n",
       "    <tr>\n",
       "      <th>2010-03</th>\n",
       "      <td>443.0</td>\n",
       "      <td>84.0</td>\n",
       "      <td>102.0</td>\n",
       "      <td>107.0</td>\n",
       "      <td>103.0</td>\n",
       "      <td>90.0</td>\n",
       "      <td>109.0</td>\n",
       "      <td>134.0</td>\n",
       "      <td>122.0</td>\n",
       "      <td>35.0</td>\n",
       "      <td>NaN</td>\n",
       "      <td>NaN</td>\n",
       "      <td>NaN</td>\n",
       "    </tr>\n",
       "    <tr>\n",
       "      <th>2010-04</th>\n",
       "      <td>294.0</td>\n",
       "      <td>57.0</td>\n",
       "      <td>57.0</td>\n",
       "      <td>48.0</td>\n",
       "      <td>54.0</td>\n",
       "      <td>66.0</td>\n",
       "      <td>81.0</td>\n",
       "      <td>77.0</td>\n",
       "      <td>20.0</td>\n",
       "      <td>NaN</td>\n",
       "      <td>NaN</td>\n",
       "      <td>NaN</td>\n",
       "      <td>NaN</td>\n",
       "    </tr>\n",
       "    <tr>\n",
       "      <th>2010-05</th>\n",
       "      <td>254.0</td>\n",
       "      <td>40.0</td>\n",
       "      <td>43.0</td>\n",
       "      <td>44.0</td>\n",
       "      <td>45.0</td>\n",
       "      <td>65.0</td>\n",
       "      <td>54.0</td>\n",
       "      <td>20.0</td>\n",
       "      <td>NaN</td>\n",
       "      <td>NaN</td>\n",
       "      <td>NaN</td>\n",
       "      <td>NaN</td>\n",
       "      <td>NaN</td>\n",
       "    </tr>\n",
       "    <tr>\n",
       "      <th>2010-06</th>\n",
       "      <td>270.0</td>\n",
       "      <td>47.0</td>\n",
       "      <td>51.0</td>\n",
       "      <td>55.0</td>\n",
       "      <td>62.0</td>\n",
       "      <td>77.0</td>\n",
       "      <td>18.0</td>\n",
       "      <td>NaN</td>\n",
       "      <td>NaN</td>\n",
       "      <td>NaN</td>\n",
       "      <td>NaN</td>\n",
       "      <td>NaN</td>\n",
       "      <td>NaN</td>\n",
       "    </tr>\n",
       "    <tr>\n",
       "      <th>2010-07</th>\n",
       "      <td>186.0</td>\n",
       "      <td>29.0</td>\n",
       "      <td>34.0</td>\n",
       "      <td>55.0</td>\n",
       "      <td>54.0</td>\n",
       "      <td>19.0</td>\n",
       "      <td>NaN</td>\n",
       "      <td>NaN</td>\n",
       "      <td>NaN</td>\n",
       "      <td>NaN</td>\n",
       "      <td>NaN</td>\n",
       "      <td>NaN</td>\n",
       "      <td>NaN</td>\n",
       "    </tr>\n",
       "    <tr>\n",
       "      <th>2010-08</th>\n",
       "      <td>162.0</td>\n",
       "      <td>33.0</td>\n",
       "      <td>48.0</td>\n",
       "      <td>52.0</td>\n",
       "      <td>19.0</td>\n",
       "      <td>NaN</td>\n",
       "      <td>NaN</td>\n",
       "      <td>NaN</td>\n",
       "      <td>NaN</td>\n",
       "      <td>NaN</td>\n",
       "      <td>NaN</td>\n",
       "      <td>NaN</td>\n",
       "      <td>NaN</td>\n",
       "    </tr>\n",
       "    <tr>\n",
       "      <th>2010-09</th>\n",
       "      <td>243.0</td>\n",
       "      <td>55.0</td>\n",
       "      <td>57.0</td>\n",
       "      <td>24.0</td>\n",
       "      <td>NaN</td>\n",
       "      <td>NaN</td>\n",
       "      <td>NaN</td>\n",
       "      <td>NaN</td>\n",
       "      <td>NaN</td>\n",
       "      <td>NaN</td>\n",
       "      <td>NaN</td>\n",
       "      <td>NaN</td>\n",
       "      <td>NaN</td>\n",
       "    </tr>\n",
       "    <tr>\n",
       "      <th>2010-10</th>\n",
       "      <td>377.0</td>\n",
       "      <td>97.0</td>\n",
       "      <td>35.0</td>\n",
       "      <td>NaN</td>\n",
       "      <td>NaN</td>\n",
       "      <td>NaN</td>\n",
       "      <td>NaN</td>\n",
       "      <td>NaN</td>\n",
       "      <td>NaN</td>\n",
       "      <td>NaN</td>\n",
       "      <td>NaN</td>\n",
       "      <td>NaN</td>\n",
       "      <td>NaN</td>\n",
       "    </tr>\n",
       "    <tr>\n",
       "      <th>2010-11</th>\n",
       "      <td>325.0</td>\n",
       "      <td>35.0</td>\n",
       "      <td>NaN</td>\n",
       "      <td>NaN</td>\n",
       "      <td>NaN</td>\n",
       "      <td>NaN</td>\n",
       "      <td>NaN</td>\n",
       "      <td>NaN</td>\n",
       "      <td>NaN</td>\n",
       "      <td>NaN</td>\n",
       "      <td>NaN</td>\n",
       "      <td>NaN</td>\n",
       "      <td>NaN</td>\n",
       "    </tr>\n",
       "    <tr>\n",
       "      <th>2010-12</th>\n",
       "      <td>46.0</td>\n",
       "      <td>NaN</td>\n",
       "      <td>NaN</td>\n",
       "      <td>NaN</td>\n",
       "      <td>NaN</td>\n",
       "      <td>NaN</td>\n",
       "      <td>NaN</td>\n",
       "      <td>NaN</td>\n",
       "      <td>NaN</td>\n",
       "      <td>NaN</td>\n",
       "      <td>NaN</td>\n",
       "      <td>NaN</td>\n",
       "      <td>NaN</td>\n",
       "    </tr>\n",
       "  </tbody>\n",
       "</table>\n",
       "</div>"
      ],
      "text/plain": [
       "period_number     0      1      2      3      4      5      6      7      8   \\\n",
       "cohort                                                                         \n",
       "2009-12        955.0  337.0  319.0  406.0  363.0  343.0  360.0  327.0  321.0   \n",
       "2010-01        383.0   79.0  119.0  117.0  101.0  115.0   99.0   88.0  107.0   \n",
       "2010-02        376.0   89.0   84.0  109.0   92.0   75.0   72.0  107.0   95.0   \n",
       "2010-03        443.0   84.0  102.0  107.0  103.0   90.0  109.0  134.0  122.0   \n",
       "2010-04        294.0   57.0   57.0   48.0   54.0   66.0   81.0   77.0   20.0   \n",
       "2010-05        254.0   40.0   43.0   44.0   45.0   65.0   54.0   20.0    NaN   \n",
       "2010-06        270.0   47.0   51.0   55.0   62.0   77.0   18.0    NaN    NaN   \n",
       "2010-07        186.0   29.0   34.0   55.0   54.0   19.0    NaN    NaN    NaN   \n",
       "2010-08        162.0   33.0   48.0   52.0   19.0    NaN    NaN    NaN    NaN   \n",
       "2010-09        243.0   55.0   57.0   24.0    NaN    NaN    NaN    NaN    NaN   \n",
       "2010-10        377.0   97.0   35.0    NaN    NaN    NaN    NaN    NaN    NaN   \n",
       "2010-11        325.0   35.0    NaN    NaN    NaN    NaN    NaN    NaN    NaN   \n",
       "2010-12         46.0    NaN    NaN    NaN    NaN    NaN    NaN    NaN    NaN   \n",
       "\n",
       "period_number     9      10     11     12  \n",
       "cohort                                     \n",
       "2009-12        346.0  403.0  473.0  237.0  \n",
       "2010-01        122.0  116.0   38.0    NaN  \n",
       "2010-02        103.0   27.0    NaN    NaN  \n",
       "2010-03         35.0    NaN    NaN    NaN  \n",
       "2010-04          NaN    NaN    NaN    NaN  \n",
       "2010-05          NaN    NaN    NaN    NaN  \n",
       "2010-06          NaN    NaN    NaN    NaN  \n",
       "2010-07          NaN    NaN    NaN    NaN  \n",
       "2010-08          NaN    NaN    NaN    NaN  \n",
       "2010-09          NaN    NaN    NaN    NaN  \n",
       "2010-10          NaN    NaN    NaN    NaN  \n",
       "2010-11          NaN    NaN    NaN    NaN  \n",
       "2010-12          NaN    NaN    NaN    NaN  "
      ]
     },
     "execution_count": 36,
     "metadata": {},
     "output_type": "execute_result"
    }
   ],
   "source": [
    "df_pivot = df_cohorts.pivot_table(index ='cohort' , columns ='period_number', values ='num_customers')\n",
    "df_pivot"
   ]
  },
  {
   "cell_type": "markdown",
   "id": "e7364ca5",
   "metadata": {},
   "source": [
    "Lastly, we can convert the counts to percentages (% retention) by dividing the values of each row by the the original cohort size (period=0)"
   ]
  },
  {
   "cell_type": "code",
   "execution_count": 37,
   "id": "3f9975e9",
   "metadata": {},
   "outputs": [
    {
     "data": {
      "text/plain": [
       "cohort\n",
       "2009-12    955.0\n",
       "2010-01    383.0\n",
       "2010-02    376.0\n",
       "2010-03    443.0\n",
       "2010-04    294.0\n",
       "2010-05    254.0\n",
       "2010-06    270.0\n",
       "2010-07    186.0\n",
       "2010-08    162.0\n",
       "2010-09    243.0\n",
       "2010-10    377.0\n",
       "2010-11    325.0\n",
       "2010-12     46.0\n",
       "Freq: M, Name: 0, dtype: float64"
      ]
     },
     "execution_count": 37,
     "metadata": {},
     "output_type": "execute_result"
    }
   ],
   "source": [
    "# get the original cohort size\n",
    "# df_orig_cohorts = df_pivot[0]\n",
    "# df_orig_cohorts\n",
    "df_orig_cohorts = df_pivot[0]\n",
    "df_orig_cohorts"
   ]
  },
  {
   "cell_type": "code",
   "execution_count": 38,
   "id": "71e0f0c7",
   "metadata": {},
   "outputs": [
    {
     "data": {
      "text/html": [
       "<div>\n",
       "<style scoped>\n",
       "    .dataframe tbody tr th:only-of-type {\n",
       "        vertical-align: middle;\n",
       "    }\n",
       "\n",
       "    .dataframe tbody tr th {\n",
       "        vertical-align: top;\n",
       "    }\n",
       "\n",
       "    .dataframe thead th {\n",
       "        text-align: right;\n",
       "    }\n",
       "</style>\n",
       "<table border=\"1\" class=\"dataframe\">\n",
       "  <thead>\n",
       "    <tr style=\"text-align: right;\">\n",
       "      <th>period_number</th>\n",
       "      <th>0</th>\n",
       "      <th>1</th>\n",
       "      <th>2</th>\n",
       "      <th>3</th>\n",
       "      <th>4</th>\n",
       "      <th>5</th>\n",
       "      <th>6</th>\n",
       "      <th>7</th>\n",
       "      <th>8</th>\n",
       "      <th>9</th>\n",
       "      <th>10</th>\n",
       "      <th>11</th>\n",
       "      <th>12</th>\n",
       "    </tr>\n",
       "    <tr>\n",
       "      <th>cohort</th>\n",
       "      <th></th>\n",
       "      <th></th>\n",
       "      <th></th>\n",
       "      <th></th>\n",
       "      <th></th>\n",
       "      <th></th>\n",
       "      <th></th>\n",
       "      <th></th>\n",
       "      <th></th>\n",
       "      <th></th>\n",
       "      <th></th>\n",
       "      <th></th>\n",
       "      <th></th>\n",
       "    </tr>\n",
       "  </thead>\n",
       "  <tbody>\n",
       "    <tr>\n",
       "      <th>2009-12</th>\n",
       "      <td>1.0</td>\n",
       "      <td>0.352880</td>\n",
       "      <td>0.334031</td>\n",
       "      <td>0.425131</td>\n",
       "      <td>0.380105</td>\n",
       "      <td>0.359162</td>\n",
       "      <td>0.376963</td>\n",
       "      <td>0.342408</td>\n",
       "      <td>0.336126</td>\n",
       "      <td>0.362304</td>\n",
       "      <td>0.421990</td>\n",
       "      <td>0.495288</td>\n",
       "      <td>0.248168</td>\n",
       "    </tr>\n",
       "    <tr>\n",
       "      <th>2010-01</th>\n",
       "      <td>1.0</td>\n",
       "      <td>0.206266</td>\n",
       "      <td>0.310705</td>\n",
       "      <td>0.305483</td>\n",
       "      <td>0.263708</td>\n",
       "      <td>0.300261</td>\n",
       "      <td>0.258486</td>\n",
       "      <td>0.229765</td>\n",
       "      <td>0.279373</td>\n",
       "      <td>0.318538</td>\n",
       "      <td>0.302872</td>\n",
       "      <td>0.099217</td>\n",
       "      <td>NaN</td>\n",
       "    </tr>\n",
       "    <tr>\n",
       "      <th>2010-02</th>\n",
       "      <td>1.0</td>\n",
       "      <td>0.236702</td>\n",
       "      <td>0.223404</td>\n",
       "      <td>0.289894</td>\n",
       "      <td>0.244681</td>\n",
       "      <td>0.199468</td>\n",
       "      <td>0.191489</td>\n",
       "      <td>0.284574</td>\n",
       "      <td>0.252660</td>\n",
       "      <td>0.273936</td>\n",
       "      <td>0.071809</td>\n",
       "      <td>NaN</td>\n",
       "      <td>NaN</td>\n",
       "    </tr>\n",
       "    <tr>\n",
       "      <th>2010-03</th>\n",
       "      <td>1.0</td>\n",
       "      <td>0.189616</td>\n",
       "      <td>0.230248</td>\n",
       "      <td>0.241535</td>\n",
       "      <td>0.232506</td>\n",
       "      <td>0.203160</td>\n",
       "      <td>0.246050</td>\n",
       "      <td>0.302483</td>\n",
       "      <td>0.275395</td>\n",
       "      <td>0.079007</td>\n",
       "      <td>NaN</td>\n",
       "      <td>NaN</td>\n",
       "      <td>NaN</td>\n",
       "    </tr>\n",
       "    <tr>\n",
       "      <th>2010-04</th>\n",
       "      <td>1.0</td>\n",
       "      <td>0.193878</td>\n",
       "      <td>0.193878</td>\n",
       "      <td>0.163265</td>\n",
       "      <td>0.183673</td>\n",
       "      <td>0.224490</td>\n",
       "      <td>0.275510</td>\n",
       "      <td>0.261905</td>\n",
       "      <td>0.068027</td>\n",
       "      <td>NaN</td>\n",
       "      <td>NaN</td>\n",
       "      <td>NaN</td>\n",
       "      <td>NaN</td>\n",
       "    </tr>\n",
       "    <tr>\n",
       "      <th>2010-05</th>\n",
       "      <td>1.0</td>\n",
       "      <td>0.157480</td>\n",
       "      <td>0.169291</td>\n",
       "      <td>0.173228</td>\n",
       "      <td>0.177165</td>\n",
       "      <td>0.255906</td>\n",
       "      <td>0.212598</td>\n",
       "      <td>0.078740</td>\n",
       "      <td>NaN</td>\n",
       "      <td>NaN</td>\n",
       "      <td>NaN</td>\n",
       "      <td>NaN</td>\n",
       "      <td>NaN</td>\n",
       "    </tr>\n",
       "    <tr>\n",
       "      <th>2010-06</th>\n",
       "      <td>1.0</td>\n",
       "      <td>0.174074</td>\n",
       "      <td>0.188889</td>\n",
       "      <td>0.203704</td>\n",
       "      <td>0.229630</td>\n",
       "      <td>0.285185</td>\n",
       "      <td>0.066667</td>\n",
       "      <td>NaN</td>\n",
       "      <td>NaN</td>\n",
       "      <td>NaN</td>\n",
       "      <td>NaN</td>\n",
       "      <td>NaN</td>\n",
       "      <td>NaN</td>\n",
       "    </tr>\n",
       "    <tr>\n",
       "      <th>2010-07</th>\n",
       "      <td>1.0</td>\n",
       "      <td>0.155914</td>\n",
       "      <td>0.182796</td>\n",
       "      <td>0.295699</td>\n",
       "      <td>0.290323</td>\n",
       "      <td>0.102151</td>\n",
       "      <td>NaN</td>\n",
       "      <td>NaN</td>\n",
       "      <td>NaN</td>\n",
       "      <td>NaN</td>\n",
       "      <td>NaN</td>\n",
       "      <td>NaN</td>\n",
       "      <td>NaN</td>\n",
       "    </tr>\n",
       "    <tr>\n",
       "      <th>2010-08</th>\n",
       "      <td>1.0</td>\n",
       "      <td>0.203704</td>\n",
       "      <td>0.296296</td>\n",
       "      <td>0.320988</td>\n",
       "      <td>0.117284</td>\n",
       "      <td>NaN</td>\n",
       "      <td>NaN</td>\n",
       "      <td>NaN</td>\n",
       "      <td>NaN</td>\n",
       "      <td>NaN</td>\n",
       "      <td>NaN</td>\n",
       "      <td>NaN</td>\n",
       "      <td>NaN</td>\n",
       "    </tr>\n",
       "    <tr>\n",
       "      <th>2010-09</th>\n",
       "      <td>1.0</td>\n",
       "      <td>0.226337</td>\n",
       "      <td>0.234568</td>\n",
       "      <td>0.098765</td>\n",
       "      <td>NaN</td>\n",
       "      <td>NaN</td>\n",
       "      <td>NaN</td>\n",
       "      <td>NaN</td>\n",
       "      <td>NaN</td>\n",
       "      <td>NaN</td>\n",
       "      <td>NaN</td>\n",
       "      <td>NaN</td>\n",
       "      <td>NaN</td>\n",
       "    </tr>\n",
       "    <tr>\n",
       "      <th>2010-10</th>\n",
       "      <td>1.0</td>\n",
       "      <td>0.257294</td>\n",
       "      <td>0.092838</td>\n",
       "      <td>NaN</td>\n",
       "      <td>NaN</td>\n",
       "      <td>NaN</td>\n",
       "      <td>NaN</td>\n",
       "      <td>NaN</td>\n",
       "      <td>NaN</td>\n",
       "      <td>NaN</td>\n",
       "      <td>NaN</td>\n",
       "      <td>NaN</td>\n",
       "      <td>NaN</td>\n",
       "    </tr>\n",
       "    <tr>\n",
       "      <th>2010-11</th>\n",
       "      <td>1.0</td>\n",
       "      <td>0.107692</td>\n",
       "      <td>NaN</td>\n",
       "      <td>NaN</td>\n",
       "      <td>NaN</td>\n",
       "      <td>NaN</td>\n",
       "      <td>NaN</td>\n",
       "      <td>NaN</td>\n",
       "      <td>NaN</td>\n",
       "      <td>NaN</td>\n",
       "      <td>NaN</td>\n",
       "      <td>NaN</td>\n",
       "      <td>NaN</td>\n",
       "    </tr>\n",
       "    <tr>\n",
       "      <th>2010-12</th>\n",
       "      <td>1.0</td>\n",
       "      <td>NaN</td>\n",
       "      <td>NaN</td>\n",
       "      <td>NaN</td>\n",
       "      <td>NaN</td>\n",
       "      <td>NaN</td>\n",
       "      <td>NaN</td>\n",
       "      <td>NaN</td>\n",
       "      <td>NaN</td>\n",
       "      <td>NaN</td>\n",
       "      <td>NaN</td>\n",
       "      <td>NaN</td>\n",
       "      <td>NaN</td>\n",
       "    </tr>\n",
       "  </tbody>\n",
       "</table>\n",
       "</div>"
      ],
      "text/plain": [
       "period_number   0         1         2         3         4         5   \\\n",
       "cohort                                                                 \n",
       "2009-12        1.0  0.352880  0.334031  0.425131  0.380105  0.359162   \n",
       "2010-01        1.0  0.206266  0.310705  0.305483  0.263708  0.300261   \n",
       "2010-02        1.0  0.236702  0.223404  0.289894  0.244681  0.199468   \n",
       "2010-03        1.0  0.189616  0.230248  0.241535  0.232506  0.203160   \n",
       "2010-04        1.0  0.193878  0.193878  0.163265  0.183673  0.224490   \n",
       "2010-05        1.0  0.157480  0.169291  0.173228  0.177165  0.255906   \n",
       "2010-06        1.0  0.174074  0.188889  0.203704  0.229630  0.285185   \n",
       "2010-07        1.0  0.155914  0.182796  0.295699  0.290323  0.102151   \n",
       "2010-08        1.0  0.203704  0.296296  0.320988  0.117284       NaN   \n",
       "2010-09        1.0  0.226337  0.234568  0.098765       NaN       NaN   \n",
       "2010-10        1.0  0.257294  0.092838       NaN       NaN       NaN   \n",
       "2010-11        1.0  0.107692       NaN       NaN       NaN       NaN   \n",
       "2010-12        1.0       NaN       NaN       NaN       NaN       NaN   \n",
       "\n",
       "period_number        6         7         8         9         10        11  \\\n",
       "cohort                                                                      \n",
       "2009-12        0.376963  0.342408  0.336126  0.362304  0.421990  0.495288   \n",
       "2010-01        0.258486  0.229765  0.279373  0.318538  0.302872  0.099217   \n",
       "2010-02        0.191489  0.284574  0.252660  0.273936  0.071809       NaN   \n",
       "2010-03        0.246050  0.302483  0.275395  0.079007       NaN       NaN   \n",
       "2010-04        0.275510  0.261905  0.068027       NaN       NaN       NaN   \n",
       "2010-05        0.212598  0.078740       NaN       NaN       NaN       NaN   \n",
       "2010-06        0.066667       NaN       NaN       NaN       NaN       NaN   \n",
       "2010-07             NaN       NaN       NaN       NaN       NaN       NaN   \n",
       "2010-08             NaN       NaN       NaN       NaN       NaN       NaN   \n",
       "2010-09             NaN       NaN       NaN       NaN       NaN       NaN   \n",
       "2010-10             NaN       NaN       NaN       NaN       NaN       NaN   \n",
       "2010-11             NaN       NaN       NaN       NaN       NaN       NaN   \n",
       "2010-12             NaN       NaN       NaN       NaN       NaN       NaN   \n",
       "\n",
       "period_number        12  \n",
       "cohort                   \n",
       "2009-12        0.248168  \n",
       "2010-01             NaN  \n",
       "2010-02             NaN  \n",
       "2010-03             NaN  \n",
       "2010-04             NaN  \n",
       "2010-05             NaN  \n",
       "2010-06             NaN  \n",
       "2010-07             NaN  \n",
       "2010-08             NaN  \n",
       "2010-09             NaN  \n",
       "2010-10             NaN  \n",
       "2010-11             NaN  \n",
       "2010-12             NaN  "
      ]
     },
     "execution_count": 38,
     "metadata": {},
     "output_type": "execute_result"
    }
   ],
   "source": [
    "# divide by original cohort size\n",
    "df_pivot = df_pivot.divide(df_orig_cohorts, axis =0)\n",
    "df_pivot"
   ]
  },
  {
   "cell_type": "markdown",
   "id": "a735a91d",
   "metadata": {},
   "source": [
    "We now have our retention matrix. The row index shows the cohort membership and the columns represent the number of months since their first transaction."
   ]
  },
  {
   "cell_type": "code",
   "execution_count": 39,
   "id": "86f50a47",
   "metadata": {},
   "outputs": [
    {
     "data": {
      "image/png": "[encoded data removed]",
      "text/plain": [
       "<Figure size 800x1500 with 13 Axes>"
      ]
     },
     "metadata": {},
     "output_type": "display_data"
    }
   ],
   "source": [
    "# plot all cohorts in a line\n",
    "fig, ax = plt.subplots(13, 1, figsize=(8, 15), sharex=True)\n",
    "\n",
    "df_pivot.T.plot(ax=ax, subplots=True, legend=False, marker='o');\n",
    "\n",
    "for i, cohort in enumerate(df_pivot.index):\n",
    "    ax[i].set_title(cohort, loc='left')\n",
    "\n",
    "fig.tight_layout()\n"
   ]
  },
  {
   "cell_type": "code",
   "execution_count": 40,
   "id": "e74d75ac",
   "metadata": {},
   "outputs": [],
   "source": [
    "import matplotlib\n",
    "import numpy as np\n",
    "\n",
    "def heatmap(data, row_labels, col_labels, ax=None,\n",
    "            cbar_kw=None, cbarlabel=\"\", **kwargs):\n",
    "    \"\"\"\n",
    "    Create a heatmap from a numpy array and two lists of labels.\n",
    "\n",
    "    Parameters\n",
    "    ----------\n",
    "    data\n",
    "        A 2D numpy array of shape (M, N).\n",
    "    row_labels\n",
    "        A list or array of length M with the labels for the rows.\n",
    "    col_labels\n",
    "        A list or array of length N with the labels for the columns.\n",
    "    ax\n",
    "        A `matplotlib.axes.Axes` instance to which the heatmap is plotted.  If\n",
    "        not provided, use current axes or create a new one.  Optional.\n",
    "    cbar_kw\n",
    "        A dictionary with arguments to `matplotlib.Figure.colorbar`.  Optional.\n",
    "    cbarlabel\n",
    "        The label for the colorbar.  Optional.\n",
    "    **kwargs\n",
    "        All other arguments are forwarded to `imshow`.\n",
    "    \"\"\"\n",
    "\n",
    "    if ax is None:\n",
    "        ax = plt.gca()\n",
    "\n",
    "    if cbar_kw is None:\n",
    "        cbar_kw = {}\n",
    "\n",
    "    # Plot the heatmap\n",
    "    im = ax.imshow(data, **kwargs)\n",
    "\n",
    "    # Create colorbar\n",
    "    cbar = ax.figure.colorbar(im, ax=ax, **cbar_kw)\n",
    "    cbar.ax.set_ylabel(cbarlabel, rotation=-90, va=\"bottom\")\n",
    "\n",
    "    # Show all ticks and label them with the respective list entries.\n",
    "    ax.set_xticks(np.arange(data.shape[1]))\n",
    "    ax.set_yticks(np.arange(data.shape[0]))\n",
    "    ax.set_xticklabels(col_labels)\n",
    "    ax.set_yticklabels(row_labels)\n",
    "\n",
    "    # Let the horizontal axes labeling appear on top.\n",
    "    ax.tick_params(top=True, bottom=False,\n",
    "                   labeltop=True, labelbottom=False)\n",
    "\n",
    "    # Rotate the tick labels and set their alignment.\n",
    "    plt.setp(ax.get_xticklabels(), rotation=0, ha=\"right\",\n",
    "             rotation_mode=\"anchor\")\n",
    "\n",
    "    # Turn spines off and create white grid.\n",
    "    for _, spine in ax.spines.items():\n",
    "      spine.set_visible(False)\n",
    "\n",
    "    ax.set_xticks(np.arange(data.shape[1]+1)-.5, minor=True)\n",
    "    ax.set_yticks(np.arange(data.shape[0]+1)-.5, minor=True)\n",
    "    ax.grid(which=\"minor\", color=\"w\", linestyle='-', linewidth=3)\n",
    "    ax.tick_params(which=\"minor\", bottom=False, left=False)\n",
    "\n",
    "    return im, cbar\n",
    "\n",
    "\n",
    "def annotate_heatmap(im, data=None, valfmt=\"{x:.2f}\",\n",
    "                     textcolors=(\"black\", \"white\"),\n",
    "                     threshold=None, **textkw):\n",
    "    \"\"\"\n",
    "    A function to annotate a heatmap.\n",
    "\n",
    "    Parameters\n",
    "    ----------\n",
    "    im\n",
    "        The AxesImage to be labeled.\n",
    "    data\n",
    "        Data used to annotate.  If None, the image's data is used.  Optional.\n",
    "    valfmt\n",
    "        The format of the annotations inside the heatmap.  This should either\n",
    "        use the string format method, e.g. \"$ {x:.2f}\", or be a\n",
    "        `matplotlib.ticker.Formatter`.  Optional.\n",
    "    textcolors\n",
    "        A pair of colors.  The first is used for values below a threshold,\n",
    "        the second for those above.  Optional.\n",
    "    threshold\n",
    "        Value in data units according to which the colors from textcolors are\n",
    "        applied.  If None (the default) uses the middle of the colormap as\n",
    "        separation.  Optional.\n",
    "    **kwargs\n",
    "        All other arguments are forwarded to each call to `text` used to create\n",
    "        the text labels.\n",
    "    \"\"\"\n",
    "\n",
    "    if not isinstance(data, (list, np.ndarray)):\n",
    "        data = im.get_array()\n",
    "\n",
    "    # Normalize the threshold to the images color range.\n",
    "    if threshold is not None:\n",
    "        threshold = im.norm(threshold)\n",
    "    else:\n",
    "        threshold = im.norm(data.max())/2.\n",
    "\n",
    "    # Set default alignment to center, but allow it to be\n",
    "    # overwritten by textkw.\n",
    "    kw = dict(horizontalalignment=\"center\",\n",
    "              verticalalignment=\"center\")\n",
    "    kw.update(textkw)\n",
    "\n",
    "    # Get the formatter in case a string is supplied\n",
    "    if isinstance(valfmt, str):\n",
    "        valfmt = matplotlib.ticker.StrMethodFormatter(valfmt)\n",
    "\n",
    "    # Loop over the data and create a `Text` for each \"pixel\".\n",
    "    # Change the text's color depending on the data.\n",
    "    texts = []\n",
    "    for i in range(data.shape[0]):\n",
    "        for j in range(data.shape[1]):\n",
    "            kw.update(color=textcolors[int(im.norm(data[i, j]) > threshold)])\n",
    "            text = im.axes.text(j, i, valfmt(data[i, j], None), **kw)\n",
    "            texts.append(text)\n",
    "\n",
    "    return texts"
   ]
  },
  {
   "cell_type": "code",
   "execution_count": 41,
   "id": "319c15f6",
   "metadata": {},
   "outputs": [
    {
     "name": "stderr",
     "output_type": "stream",
     "text": [
      "<__array_function__ internals>:200: UserWarning: Warning: converting a masked element to nan.\n",
      "C:\\Users\\admin\\anaconda3\\Lib\\site-packages\\matplotlib\\colors.py:1311: UserWarning: Warning: converting a masked element to nan.\n",
      "  data = np.asarray(value)\n",
      "C:\\Users\\admin\\anaconda3\\Lib\\site-packages\\matplotlib\\ticker.py:374: FutureWarning: Format strings passed to MaskedConstant are ignored, but in future may error or produce different behavior\n",
      "  return self.fmt.format(x=x, pos=pos)\n"
     ]
    },
    {
     "data": {
      "text/plain": [
       "Text(0.5, 0, 'Period')"
      ]
     },
     "execution_count": 41,
     "metadata": {},
     "output_type": "execute_result"
    },
    {
     "data": {
      "image/png": "[encoded data removed]",
      "text/plain": [
       "<Figure size 1600x1200 with 2 Axes>"
      ]
     },
     "metadata": {},
     "output_type": "display_data"
    }
   ],
   "source": [
    "fig, ax = plt.subplots(figsize=(16,12))\n",
    "\n",
    "im, cbar = heatmap(df_pivot.values, df_pivot.index, df_pivot.columns, ax=ax,\n",
    "                   cmap=\"YlGn\", cbarlabel=\"% retention\")\n",
    "texts = annotate_heatmap(im, valfmt=\"{x:.1%}\")\n",
    "\n",
    "ax.set_title('Online Retail Transactions - Monthly Cohorts')\n",
    "ax.set_ylabel('Cohort Month')\n",
    "ax.set_xlabel('Period')"
   ]
  },
  {
   "cell_type": "markdown",
   "id": "d933ab63",
   "metadata": {},
   "source": [
    "# RFM ANALYSIS"
   ]
  },
  {
   "cell_type": "markdown",
   "id": "1eb69f7f",
   "metadata": {},
   "source": [
    "Revenue per Customer\n",
    "To get the total revenue per customer, we need to add a total amount column (quantity x unit price). We can then change our aggregate function to its' sum instead of the count of unique transactions."
   ]
  },
  {
   "cell_type": "code",
   "execution_count": 42,
   "id": "455aac84",
   "metadata": {},
   "outputs": [
    {
     "data": {
      "text/html": [
       "<div>\n",
       "<style scoped>\n",
       "    .dataframe tbody tr th:only-of-type {\n",
       "        vertical-align: middle;\n",
       "    }\n",
       "\n",
       "    .dataframe tbody tr th {\n",
       "        vertical-align: top;\n",
       "    }\n",
       "\n",
       "    .dataframe thead th {\n",
       "        text-align: right;\n",
       "    }\n",
       "</style>\n",
       "<table border=\"1\" class=\"dataframe\">\n",
       "  <thead>\n",
       "    <tr style=\"text-align: right;\">\n",
       "      <th></th>\n",
       "      <th>Invoice</th>\n",
       "      <th>StockCode</th>\n",
       "      <th>Description</th>\n",
       "      <th>Quantity</th>\n",
       "      <th>InvoiceDate</th>\n",
       "      <th>Price</th>\n",
       "      <th>Customer ID</th>\n",
       "      <th>Country</th>\n",
       "      <th>Year</th>\n",
       "      <th>Month</th>\n",
       "    </tr>\n",
       "  </thead>\n",
       "  <tbody>\n",
       "    <tr>\n",
       "      <th>0</th>\n",
       "      <td>489434</td>\n",
       "      <td>85048</td>\n",
       "      <td>15CM CHRISTMAS GLASS BALL 20 LIGHTS</td>\n",
       "      <td>12</td>\n",
       "      <td>2009-12-01 07:45:00</td>\n",
       "      <td>6.95</td>\n",
       "      <td>13085</td>\n",
       "      <td>United Kingdom</td>\n",
       "      <td>2009</td>\n",
       "      <td>12</td>\n",
       "    </tr>\n",
       "    <tr>\n",
       "      <th>1</th>\n",
       "      <td>489434</td>\n",
       "      <td>79323P</td>\n",
       "      <td>PINK CHERRY LIGHTS</td>\n",
       "      <td>12</td>\n",
       "      <td>2009-12-01 07:45:00</td>\n",
       "      <td>6.75</td>\n",
       "      <td>13085</td>\n",
       "      <td>United Kingdom</td>\n",
       "      <td>2009</td>\n",
       "      <td>12</td>\n",
       "    </tr>\n",
       "  </tbody>\n",
       "</table>\n",
       "</div>"
      ],
      "text/plain": [
       "  Invoice StockCode                          Description  Quantity  \\\n",
       "0  489434     85048  15CM CHRISTMAS GLASS BALL 20 LIGHTS        12   \n",
       "1  489434    79323P                   PINK CHERRY LIGHTS        12   \n",
       "\n",
       "          InvoiceDate  Price Customer ID         Country  Year  Month  \n",
       "0 2009-12-01 07:45:00   6.95       13085  United Kingdom  2009     12  \n",
       "1 2009-12-01 07:45:00   6.75       13085  United Kingdom  2009     12  "
      ]
     },
     "execution_count": 42,
     "metadata": {},
     "output_type": "execute_result"
    }
   ],
   "source": [
    "df.head(2)"
   ]
  },
  {
   "cell_type": "code",
   "execution_count": 43,
   "id": "fc698e89",
   "metadata": {},
   "outputs": [
    {
     "data": {
      "text/html": [
       "<div>\n",
       "<style scoped>\n",
       "    .dataframe tbody tr th:only-of-type {\n",
       "        vertical-align: middle;\n",
       "    }\n",
       "\n",
       "    .dataframe tbody tr th {\n",
       "        vertical-align: top;\n",
       "    }\n",
       "\n",
       "    .dataframe thead th {\n",
       "        text-align: right;\n",
       "    }\n",
       "</style>\n",
       "<table border=\"1\" class=\"dataframe\">\n",
       "  <thead>\n",
       "    <tr style=\"text-align: right;\">\n",
       "      <th></th>\n",
       "      <th>Invoice</th>\n",
       "      <th>StockCode</th>\n",
       "      <th>Description</th>\n",
       "      <th>Quantity</th>\n",
       "      <th>InvoiceDate</th>\n",
       "      <th>Price</th>\n",
       "      <th>Customer ID</th>\n",
       "      <th>Country</th>\n",
       "      <th>Year</th>\n",
       "      <th>Month</th>\n",
       "      <th>total_amount</th>\n",
       "    </tr>\n",
       "  </thead>\n",
       "  <tbody>\n",
       "    <tr>\n",
       "      <th>0</th>\n",
       "      <td>489434</td>\n",
       "      <td>85048</td>\n",
       "      <td>15CM CHRISTMAS GLASS BALL 20 LIGHTS</td>\n",
       "      <td>12</td>\n",
       "      <td>2009-12-01 07:45:00</td>\n",
       "      <td>6.95</td>\n",
       "      <td>13085</td>\n",
       "      <td>United Kingdom</td>\n",
       "      <td>2009</td>\n",
       "      <td>12</td>\n",
       "      <td>83.4</td>\n",
       "    </tr>\n",
       "    <tr>\n",
       "      <th>1</th>\n",
       "      <td>489434</td>\n",
       "      <td>79323P</td>\n",
       "      <td>PINK CHERRY LIGHTS</td>\n",
       "      <td>12</td>\n",
       "      <td>2009-12-01 07:45:00</td>\n",
       "      <td>6.75</td>\n",
       "      <td>13085</td>\n",
       "      <td>United Kingdom</td>\n",
       "      <td>2009</td>\n",
       "      <td>12</td>\n",
       "      <td>81.0</td>\n",
       "    </tr>\n",
       "  </tbody>\n",
       "</table>\n",
       "</div>"
      ],
      "text/plain": [
       "  Invoice StockCode                          Description  Quantity  \\\n",
       "0  489434     85048  15CM CHRISTMAS GLASS BALL 20 LIGHTS        12   \n",
       "1  489434    79323P                   PINK CHERRY LIGHTS        12   \n",
       "\n",
       "          InvoiceDate  Price Customer ID         Country  Year  Month  \\\n",
       "0 2009-12-01 07:45:00   6.95       13085  United Kingdom  2009     12   \n",
       "1 2009-12-01 07:45:00   6.75       13085  United Kingdom  2009     12   \n",
       "\n",
       "   total_amount  \n",
       "0          83.4  \n",
       "1          81.0  "
      ]
     },
     "execution_count": 43,
     "metadata": {},
     "output_type": "execute_result"
    }
   ],
   "source": [
    "# create a total_amount column\n",
    "df['total_amount'] = (df.Quantity * df.Price)\n",
    "df.head(2)"
   ]
  },
  {
   "cell_type": "markdown",
   "id": "2596b00c",
   "metadata": {},
   "source": [
    "## Revenue per Customers"
   ]
  },
  {
   "cell_type": "code",
   "execution_count": 44,
   "id": "4f5efc9a",
   "metadata": {},
   "outputs": [
    {
     "data": {
      "text/plain": [
       "Customer ID\n",
       "12346     372.86\n",
       "12347    1323.32\n",
       "Name: total_amount, dtype: float64"
      ]
     },
     "execution_count": 44,
     "metadata": {},
     "output_type": "execute_result"
    }
   ],
   "source": [
    "# group by Customer ID\n",
    "# get the sum of total_amount\n",
    "df_customers = df.groupby('Customer ID')['total_amount'].sum()\n",
    "df_customers.head(2)"
   ]
  },
  {
   "cell_type": "code",
   "execution_count": 45,
   "id": "42e9d6d5",
   "metadata": {},
   "outputs": [
    {
     "data": {
      "text/plain": [
       "Text(0.5, 0, 'Total Amount Spent')"
      ]
     },
     "execution_count": 45,
     "metadata": {},
     "output_type": "execute_result"
    },
    {
     "data": {
      "image/png": "[encoded data removed]",
      "text/plain": [
       "<Figure size 800x400 with 1 Axes>"
      ]
     },
     "metadata": {},
     "output_type": "display_data"
    }
   ],
   "source": [
    "# top spenders\n",
    "fig, ax = plt.subplots(figsize=(8, 4))\n",
    "df_customers.sort_values(ascending=True).tail(10).plot(kind='barh', ax=ax)\n",
    "ax.set_title('Top 10 Customers by Total Amount Spent')\n",
    "ax.set_xlabel('Total Amount Spent')"
   ]
  },
  {
   "cell_type": "markdown",
   "id": "75d3997a",
   "metadata": {},
   "source": [
    "Notice that our top spenders are not necessarily the most loyal (customer 18102 is the top spender but only top 10 with the most number of transactions). There is also a large gap between the amount spent - could be because most customers are wholesalers."
   ]
  },
  {
   "cell_type": "code",
   "execution_count": 46,
   "id": "10e2c1f2",
   "metadata": {},
   "outputs": [
    {
     "data": {
      "text/plain": [
       "Text(0, 0.5, 'Count of Customers')"
      ]
     },
     "execution_count": 46,
     "metadata": {},
     "output_type": "execute_result"
    },
    {
     "data": {
      "image/png": "[encoded data removed]",
      "text/plain": [
       "<Figure size 800x400 with 1 Axes>"
      ]
     },
     "metadata": {},
     "output_type": "display_data"
    }
   ],
   "source": [
    "# distribution of customer spending\n",
    "fig, ax = plt.subplots(figsize=(8, 4))\n",
    "df_customers.plot(kind='hist', ax=ax, bins=100)\n",
    "ax.set_title('Distribution of Total Amount Spent per Customer')\n",
    "ax.set_xlabel('Total Amount Spent')\n",
    "ax.set_ylabel('Count of Customers')"
   ]
  },
  {
   "cell_type": "markdown",
   "id": "90696f6c",
   "metadata": {},
   "source": [
    "Notice that our top spenders are not necessarily the most loyal (customer 18102 is the top spender but only top 10 with the most number of transactions). There is also a large gap between the amount spent - could be because most customers are wholesalers."
   ]
  },
  {
   "cell_type": "markdown",
   "id": "a0bfac06",
   "metadata": {},
   "source": [
    "## Monthly Revenue"
   ]
  },
  {
   "cell_type": "code",
   "execution_count": 47,
   "id": "44add8ae",
   "metadata": {},
   "outputs": [
    {
     "data": {
      "text/html": [
       "<div>\n",
       "<style scoped>\n",
       "    .dataframe tbody tr th:only-of-type {\n",
       "        vertical-align: middle;\n",
       "    }\n",
       "\n",
       "    .dataframe tbody tr th {\n",
       "        vertical-align: top;\n",
       "    }\n",
       "\n",
       "    .dataframe thead th {\n",
       "        text-align: right;\n",
       "    }\n",
       "</style>\n",
       "<table border=\"1\" class=\"dataframe\">\n",
       "  <thead>\n",
       "    <tr style=\"text-align: right;\">\n",
       "      <th></th>\n",
       "      <th>Invoice</th>\n",
       "      <th>StockCode</th>\n",
       "      <th>Description</th>\n",
       "      <th>Quantity</th>\n",
       "      <th>InvoiceDate</th>\n",
       "      <th>Price</th>\n",
       "      <th>Customer ID</th>\n",
       "      <th>Country</th>\n",
       "      <th>Year</th>\n",
       "      <th>Month</th>\n",
       "      <th>total_amount</th>\n",
       "    </tr>\n",
       "  </thead>\n",
       "  <tbody>\n",
       "    <tr>\n",
       "      <th>0</th>\n",
       "      <td>489434</td>\n",
       "      <td>85048</td>\n",
       "      <td>15CM CHRISTMAS GLASS BALL 20 LIGHTS</td>\n",
       "      <td>12</td>\n",
       "      <td>2009-12-01 07:45:00</td>\n",
       "      <td>6.95</td>\n",
       "      <td>13085</td>\n",
       "      <td>United Kingdom</td>\n",
       "      <td>2009</td>\n",
       "      <td>12</td>\n",
       "      <td>83.4</td>\n",
       "    </tr>\n",
       "    <tr>\n",
       "      <th>1</th>\n",
       "      <td>489434</td>\n",
       "      <td>79323P</td>\n",
       "      <td>PINK CHERRY LIGHTS</td>\n",
       "      <td>12</td>\n",
       "      <td>2009-12-01 07:45:00</td>\n",
       "      <td>6.75</td>\n",
       "      <td>13085</td>\n",
       "      <td>United Kingdom</td>\n",
       "      <td>2009</td>\n",
       "      <td>12</td>\n",
       "      <td>81.0</td>\n",
       "    </tr>\n",
       "  </tbody>\n",
       "</table>\n",
       "</div>"
      ],
      "text/plain": [
       "  Invoice StockCode                          Description  Quantity  \\\n",
       "0  489434     85048  15CM CHRISTMAS GLASS BALL 20 LIGHTS        12   \n",
       "1  489434    79323P                   PINK CHERRY LIGHTS        12   \n",
       "\n",
       "          InvoiceDate  Price Customer ID         Country  Year  Month  \\\n",
       "0 2009-12-01 07:45:00   6.95       13085  United Kingdom  2009     12   \n",
       "1 2009-12-01 07:45:00   6.75       13085  United Kingdom  2009     12   \n",
       "\n",
       "   total_amount  \n",
       "0          83.4  \n",
       "1          81.0  "
      ]
     },
     "execution_count": 47,
     "metadata": {},
     "output_type": "execute_result"
    }
   ],
   "source": [
    "df.head(2)"
   ]
  },
  {
   "cell_type": "code",
   "execution_count": 48,
   "id": "2149ffe4",
   "metadata": {},
   "outputs": [
    {
     "data": {
      "text/plain": [
       "Month  Year\n",
       "1      2010     557319.062\n",
       "2      2010     506371.066\n",
       "3      2010     699608.991\n",
       "4      2010     594609.192\n",
       "5      2010     599985.790\n",
       "6      2010     639066.580\n",
       "7      2010     591636.740\n",
       "8      2010     604242.650\n",
       "9      2010     831615.001\n",
       "10     2010    1036680.000\n",
       "11     2010    1172336.042\n",
       "12     2009     686654.160\n",
       "       2010     311878.000\n",
       "Name: total_amount, dtype: float64"
      ]
     },
     "execution_count": 48,
     "metadata": {},
     "output_type": "execute_result"
    }
   ],
   "source": [
    "df_monthly = df.groupby(['Month','Year'])['total_amount'].sum()\n",
    "df_monthly"
   ]
  },
  {
   "cell_type": "code",
   "execution_count": 50,
   "id": "3fe948fd",
   "metadata": {},
   "outputs": [
    {
     "data": {
      "text/plain": [
       "Text(0, 0.5, 'Total Amount')"
      ]
     },
     "execution_count": 50,
     "metadata": {},
     "output_type": "execute_result"
    },
    {
     "data": {
      "image/png": "[encoded data removed]",
      "text/plain": [
       "<Figure size 800x300 with 1 Axes>"
      ]
     },
     "metadata": {},
     "output_type": "display_data"
    }
   ],
   "source": [
    "fig, ax = plt.subplots(figsize=(8,3))\n",
    "df_monthly.plot(ax=ax)\n",
    "ax.set_title('Monthly Revenue')\n",
    "ax.set_xlabel('Month')\n",
    "ax.set_ylabel('Total Amount')"
   ]
  },
  {
   "cell_type": "markdown",
   "id": "fe2ab764",
   "metadata": {},
   "source": [
    "We can now proceed with the RFM Analysis.\n",
    "\n",
    "In this case, we need to set a \"current date\" for our recency calculations. Let's assume that our current date is 1 day after the latest in our dataset. In actual application, we can use the actual current date as long as the dataset is also updated."
   ]
  },
  {
   "cell_type": "code",
   "execution_count": 51,
   "id": "b994c499",
   "metadata": {},
   "outputs": [
    {
     "data": {
      "text/plain": [
       "(Timestamp('2010-12-09 20:01:00'), Timestamp('2010-12-10 20:01:00'))"
      ]
     },
     "execution_count": 51,
     "metadata": {},
     "output_type": "execute_result"
    }
   ],
   "source": [
    "# use datetime.timedelta(days=1) to add +1 day after latest invoice date\n",
    "import datetime\n",
    "\n",
    "latest_invoice_date = df.InvoiceDate.max()\n",
    "current_date = latest_invoice_date + datetime.timedelta(days=1)\n",
    "latest_invoice_date, current_date"
   ]
  },
  {
   "cell_type": "markdown",
   "id": "0ef524f8",
   "metadata": {},
   "source": [
    "Our latest invoice date is on December 9, 2010. We set our current date to December 10, 2010. We can now proceed to calculate our recency, frequency, and monetary values."
   ]
  },
  {
   "cell_type": "code",
   "execution_count": 52,
   "id": "b0093cb5",
   "metadata": {},
   "outputs": [
    {
     "data": {
      "text/html": [
       "<div>\n",
       "<style scoped>\n",
       "    .dataframe tbody tr th:only-of-type {\n",
       "        vertical-align: middle;\n",
       "    }\n",
       "\n",
       "    .dataframe tbody tr th {\n",
       "        vertical-align: top;\n",
       "    }\n",
       "\n",
       "    .dataframe thead th {\n",
       "        text-align: right;\n",
       "    }\n",
       "</style>\n",
       "<table border=\"1\" class=\"dataframe\">\n",
       "  <thead>\n",
       "    <tr style=\"text-align: right;\">\n",
       "      <th></th>\n",
       "      <th>Invoice</th>\n",
       "      <th>StockCode</th>\n",
       "      <th>Description</th>\n",
       "      <th>Quantity</th>\n",
       "      <th>InvoiceDate</th>\n",
       "      <th>Price</th>\n",
       "      <th>Customer ID</th>\n",
       "      <th>Country</th>\n",
       "      <th>Year</th>\n",
       "      <th>Month</th>\n",
       "      <th>total_amount</th>\n",
       "    </tr>\n",
       "  </thead>\n",
       "  <tbody>\n",
       "    <tr>\n",
       "      <th>0</th>\n",
       "      <td>489434</td>\n",
       "      <td>85048</td>\n",
       "      <td>15CM CHRISTMAS GLASS BALL 20 LIGHTS</td>\n",
       "      <td>12</td>\n",
       "      <td>2009-12-01 07:45:00</td>\n",
       "      <td>6.95</td>\n",
       "      <td>13085</td>\n",
       "      <td>United Kingdom</td>\n",
       "      <td>2009</td>\n",
       "      <td>12</td>\n",
       "      <td>83.4</td>\n",
       "    </tr>\n",
       "    <tr>\n",
       "      <th>1</th>\n",
       "      <td>489434</td>\n",
       "      <td>79323P</td>\n",
       "      <td>PINK CHERRY LIGHTS</td>\n",
       "      <td>12</td>\n",
       "      <td>2009-12-01 07:45:00</td>\n",
       "      <td>6.75</td>\n",
       "      <td>13085</td>\n",
       "      <td>United Kingdom</td>\n",
       "      <td>2009</td>\n",
       "      <td>12</td>\n",
       "      <td>81.0</td>\n",
       "    </tr>\n",
       "  </tbody>\n",
       "</table>\n",
       "</div>"
      ],
      "text/plain": [
       "  Invoice StockCode                          Description  Quantity  \\\n",
       "0  489434     85048  15CM CHRISTMAS GLASS BALL 20 LIGHTS        12   \n",
       "1  489434    79323P                   PINK CHERRY LIGHTS        12   \n",
       "\n",
       "          InvoiceDate  Price Customer ID         Country  Year  Month  \\\n",
       "0 2009-12-01 07:45:00   6.95       13085  United Kingdom  2009     12   \n",
       "1 2009-12-01 07:45:00   6.75       13085  United Kingdom  2009     12   \n",
       "\n",
       "   total_amount  \n",
       "0          83.4  \n",
       "1          81.0  "
      ]
     },
     "execution_count": 52,
     "metadata": {},
     "output_type": "execute_result"
    }
   ],
   "source": [
    "df.head(2)"
   ]
  },
  {
   "cell_type": "markdown",
   "id": "501fb9eb",
   "metadata": {},
   "source": [
    "## Recency\n",
    "\n",
    "We define our recency to be the number of days since a customer's latest transaction. To get this value, we get the latest invoice date (max) of each customer and get the number of days to the current date."
   ]
  },
  {
   "cell_type": "code",
   "execution_count": 54,
   "id": "2cb391a4",
   "metadata": {},
   "outputs": [
    {
     "data": {
      "text/plain": [
       "Customer ID\n",
       "12346   2010-06-28 13:53:00\n",
       "12347   2010-12-07 14:57:00\n",
       "Name: InvoiceDate, dtype: datetime64[ns]"
      ]
     },
     "execution_count": 54,
     "metadata": {},
     "output_type": "execute_result"
    }
   ],
   "source": [
    "# get the max invoice date from the customer\n",
    "df_latest_invoice = df.groupby('Customer ID')['InvoiceDate'].max()\n",
    "df_latest_invoice.head(2)"
   ]
  },
  {
   "cell_type": "code",
   "execution_count": 56,
   "id": "255c23c2",
   "metadata": {},
   "outputs": [
    {
     "data": {
      "text/plain": [
       "Customer ID\n",
       "12346    165\n",
       "12347      3\n",
       "12348     74\n",
       "12349     43\n",
       "12351     11\n",
       "Name: InvoiceDate, dtype: int64"
      ]
     },
     "execution_count": 56,
     "metadata": {},
     "output_type": "execute_result"
    }
   ],
   "source": [
    "# get the number of days between latest invoice and current date\n",
    "df_recency = (current_date - df_latest_invoice).dt.days\n",
    "df_recency.head(5)"
   ]
  },
  {
   "cell_type": "markdown",
   "id": "45156887",
   "metadata": {},
   "source": [
    "In the resulting table, we see that customer 12346 had their latest transaction on June 28, 2010. Since our current date is December 10, 2010, it has been 165 days already since their last purchase.\n",
    "\n",
    "Customer 12347, on the other hand, had a transaction just 3 days ago!"
   ]
  },
  {
   "cell_type": "markdown",
   "id": "15e58870",
   "metadata": {},
   "source": [
    "## Frequency\n",
    "\n",
    "We now calculate our frequency. This is defined by the number of transactions per customer over the whole period of our dataset. To calculate this, we use the groupby functions we used in our exploratory analysis."
   ]
  },
  {
   "cell_type": "code",
   "execution_count": 58,
   "id": "f93ff715",
   "metadata": {},
   "outputs": [
    {
     "data": {
      "text/plain": [
       "Customer ID\n",
       "12346    11\n",
       "12347     2\n",
       "12348     1\n",
       "12349     3\n",
       "12351     1\n",
       "         ..\n",
       "18283     6\n",
       "18284     1\n",
       "18285     1\n",
       "18286     2\n",
       "18287     4\n",
       "Name: Invoice, Length: 4314, dtype: int64"
      ]
     },
     "execution_count": 58,
     "metadata": {},
     "output_type": "execute_result"
    }
   ],
   "source": [
    "df_frequency = df.groupby('Customer ID')['Invoice'].nunique()\n",
    "df_frequency"
   ]
  },
  {
   "cell_type": "markdown",
   "id": "5145c93b",
   "metadata": {},
   "source": [
    "This table tells us how many transactions our customers had from December 2009 - December 2010."
   ]
  },
  {
   "cell_type": "markdown",
   "id": "bb384e47",
   "metadata": {},
   "source": [
    "## Monetary\n",
    "\n",
    "Lastly, we calculate our monetary values with the same groupby function. We define this metric by the total amount spent by each customer."
   ]
  },
  {
   "cell_type": "code",
   "execution_count": 60,
   "id": "ac8efd78",
   "metadata": {},
   "outputs": [
    {
     "data": {
      "text/plain": [
       "Customer ID\n",
       "12346     372.86\n",
       "12347    1323.32\n",
       "12348     222.16\n",
       "12349    2671.14\n",
       "12351     300.93\n",
       "Name: total_amount, dtype: float64"
      ]
     },
     "execution_count": 60,
     "metadata": {},
     "output_type": "execute_result"
    }
   ],
   "source": [
    "df_monetary = df.groupby('Customer ID')['total_amount'].sum()\n",
    "df_monetary.head()"
   ]
  },
  {
   "cell_type": "markdown",
   "id": "17633a32",
   "metadata": {},
   "source": [
    "## RFM Scores\n",
    "\n",
    "We now merge these tables into a single dataframe. We put each series together in a dictionary and use pd.DataFrame"
   ]
  },
  {
   "cell_type": "code",
   "execution_count": 61,
   "id": "12f5a0f9",
   "metadata": {},
   "outputs": [
    {
     "data": {
      "text/html": [
       "<div>\n",
       "<style scoped>\n",
       "    .dataframe tbody tr th:only-of-type {\n",
       "        vertical-align: middle;\n",
       "    }\n",
       "\n",
       "    .dataframe tbody tr th {\n",
       "        vertical-align: top;\n",
       "    }\n",
       "\n",
       "    .dataframe thead th {\n",
       "        text-align: right;\n",
       "    }\n",
       "</style>\n",
       "<table border=\"1\" class=\"dataframe\">\n",
       "  <thead>\n",
       "    <tr style=\"text-align: right;\">\n",
       "      <th></th>\n",
       "      <th>recency</th>\n",
       "      <th>frequency</th>\n",
       "      <th>monetary</th>\n",
       "    </tr>\n",
       "    <tr>\n",
       "      <th>Customer ID</th>\n",
       "      <th></th>\n",
       "      <th></th>\n",
       "      <th></th>\n",
       "    </tr>\n",
       "  </thead>\n",
       "  <tbody>\n",
       "    <tr>\n",
       "      <th>12346</th>\n",
       "      <td>165</td>\n",
       "      <td>11</td>\n",
       "      <td>372.86</td>\n",
       "    </tr>\n",
       "    <tr>\n",
       "      <th>12347</th>\n",
       "      <td>3</td>\n",
       "      <td>2</td>\n",
       "      <td>1323.32</td>\n",
       "    </tr>\n",
       "    <tr>\n",
       "      <th>12348</th>\n",
       "      <td>74</td>\n",
       "      <td>1</td>\n",
       "      <td>222.16</td>\n",
       "    </tr>\n",
       "    <tr>\n",
       "      <th>12349</th>\n",
       "      <td>43</td>\n",
       "      <td>3</td>\n",
       "      <td>2671.14</td>\n",
       "    </tr>\n",
       "    <tr>\n",
       "      <th>12351</th>\n",
       "      <td>11</td>\n",
       "      <td>1</td>\n",
       "      <td>300.93</td>\n",
       "    </tr>\n",
       "    <tr>\n",
       "      <th>12352</th>\n",
       "      <td>11</td>\n",
       "      <td>2</td>\n",
       "      <td>343.80</td>\n",
       "    </tr>\n",
       "    <tr>\n",
       "      <th>12353</th>\n",
       "      <td>44</td>\n",
       "      <td>1</td>\n",
       "      <td>317.76</td>\n",
       "    </tr>\n",
       "    <tr>\n",
       "      <th>12355</th>\n",
       "      <td>203</td>\n",
       "      <td>1</td>\n",
       "      <td>488.21</td>\n",
       "    </tr>\n",
       "    <tr>\n",
       "      <th>12356</th>\n",
       "      <td>16</td>\n",
       "      <td>3</td>\n",
       "      <td>3562.25</td>\n",
       "    </tr>\n",
       "    <tr>\n",
       "      <th>12357</th>\n",
       "      <td>24</td>\n",
       "      <td>2</td>\n",
       "      <td>12079.99</td>\n",
       "    </tr>\n",
       "  </tbody>\n",
       "</table>\n",
       "</div>"
      ],
      "text/plain": [
       "             recency  frequency  monetary\n",
       "Customer ID                              \n",
       "12346            165         11    372.86\n",
       "12347              3          2   1323.32\n",
       "12348             74          1    222.16\n",
       "12349             43          3   2671.14\n",
       "12351             11          1    300.93\n",
       "12352             11          2    343.80\n",
       "12353             44          1    317.76\n",
       "12355            203          1    488.21\n",
       "12356             16          3   3562.25\n",
       "12357             24          2  12079.99"
      ]
     },
     "execution_count": 61,
     "metadata": {},
     "output_type": "execute_result"
    }
   ],
   "source": [
    "df_rfm = pd.DataFrame({'recency':df_recency, 'frequency':df_frequency, 'monetary':df_monetary})\n",
    "df_rfm.head(10)"
   ]
  },
  {
   "cell_type": "markdown",
   "id": "ff2986aa",
   "metadata": {},
   "source": [
    "We now have RFM values for each customer. A common way to generate the RFM scores is to group each customer by the quantile that they belong to. For example, we can define top spenders to be those in the 75th quantile and up in terms of monetary value."
   ]
  },
  {
   "cell_type": "code",
   "execution_count": 62,
   "id": "10d9bf9a",
   "metadata": {},
   "outputs": [
    {
     "data": {
      "text/html": [
       "<div>\n",
       "<style scoped>\n",
       "    .dataframe tbody tr th:only-of-type {\n",
       "        vertical-align: middle;\n",
       "    }\n",
       "\n",
       "    .dataframe tbody tr th {\n",
       "        vertical-align: top;\n",
       "    }\n",
       "\n",
       "    .dataframe thead th {\n",
       "        text-align: right;\n",
       "    }\n",
       "</style>\n",
       "<table border=\"1\" class=\"dataframe\">\n",
       "  <thead>\n",
       "    <tr style=\"text-align: right;\">\n",
       "      <th></th>\n",
       "      <th>recency</th>\n",
       "      <th>frequency</th>\n",
       "      <th>monetary</th>\n",
       "    </tr>\n",
       "  </thead>\n",
       "  <tbody>\n",
       "    <tr>\n",
       "      <th>0.25</th>\n",
       "      <td>18.0</td>\n",
       "      <td>1.0</td>\n",
       "      <td>307.9500</td>\n",
       "    </tr>\n",
       "    <tr>\n",
       "      <th>0.50</th>\n",
       "      <td>53.0</td>\n",
       "      <td>2.0</td>\n",
       "      <td>705.5500</td>\n",
       "    </tr>\n",
       "    <tr>\n",
       "      <th>0.75</th>\n",
       "      <td>136.0</td>\n",
       "      <td>5.0</td>\n",
       "      <td>1722.8025</td>\n",
       "    </tr>\n",
       "  </tbody>\n",
       "</table>\n",
       "</div>"
      ],
      "text/plain": [
       "      recency  frequency   monetary\n",
       "0.25     18.0        1.0   307.9500\n",
       "0.50     53.0        2.0   705.5500\n",
       "0.75    136.0        5.0  1722.8025"
      ]
     },
     "execution_count": 62,
     "metadata": {},
     "output_type": "execute_result"
    }
   ],
   "source": [
    "quantiles = df_rfm.quantile(q=[0.25, 0.5, 0.75])\n",
    "quantiles"
   ]
  },
  {
   "attachments": {
    "rfm%20scores.png": {
     "image/png": "[encoded data removed]"
    }
   },
   "cell_type": "markdown",
   "id": "a6dbf7d3",
   "metadata": {},
   "source": [
    "Using the quantiles function, we can get our thresholds for segmentation.\n",
    "\n",
    "1. For recency score (lower is better):\n",
    "    Score = 1; quantile between 0-0.25\n",
    "    Score = 2; quantile between 0.25-0.5\n",
    "    Score = 3; quantile between 0.5-0.75\n",
    "    Score = 4; quantile between 0.75 - 1\n",
    "\n",
    "2. For frequency and monetary score (higher is better): - Score = 1; quantile between 0.75 - 1 - Score = 2; quantile between 0.5-0.75 - Score = 3; quantile between 0.25-0.5 - Score = 4; quantile between 0-0.25\n",
    "\n",
    "Let's use this guide for our analysis:\n",
    "\n",
    "\n",
    "![rfm%20scores.png](attachment:rfm%20scores.png)"
   ]
  },
  {
   "cell_type": "markdown",
   "id": "62a23106",
   "metadata": {},
   "source": [
    "### Recency Scores"
   ]
  },
  {
   "cell_type": "code",
   "execution_count": 63,
   "id": "1fcb1f68",
   "metadata": {},
   "outputs": [
    {
     "data": {
      "text/plain": [
       "{0.25: 18.0, 0.5: 53.0, 0.75: 136.0}"
      ]
     },
     "execution_count": 63,
     "metadata": {},
     "output_type": "execute_result"
    }
   ],
   "source": [
    "# create a dictionary with the recency quantiles\n",
    "recency_dict = quantiles['recency'].to_dict()\n",
    "recency_dict"
   ]
  },
  {
   "cell_type": "code",
   "execution_count": 64,
   "id": "c4bd124a",
   "metadata": {},
   "outputs": [
    {
     "data": {
      "text/html": [
       "<div>\n",
       "<style scoped>\n",
       "    .dataframe tbody tr th:only-of-type {\n",
       "        vertical-align: middle;\n",
       "    }\n",
       "\n",
       "    .dataframe tbody tr th {\n",
       "        vertical-align: top;\n",
       "    }\n",
       "\n",
       "    .dataframe thead th {\n",
       "        text-align: right;\n",
       "    }\n",
       "</style>\n",
       "<table border=\"1\" class=\"dataframe\">\n",
       "  <thead>\n",
       "    <tr style=\"text-align: right;\">\n",
       "      <th></th>\n",
       "      <th>recency</th>\n",
       "      <th>frequency</th>\n",
       "      <th>monetary</th>\n",
       "      <th>recency_score</th>\n",
       "    </tr>\n",
       "    <tr>\n",
       "      <th>Customer ID</th>\n",
       "      <th></th>\n",
       "      <th></th>\n",
       "      <th></th>\n",
       "      <th></th>\n",
       "    </tr>\n",
       "  </thead>\n",
       "  <tbody>\n",
       "    <tr>\n",
       "      <th>12346</th>\n",
       "      <td>165</td>\n",
       "      <td>11</td>\n",
       "      <td>372.86</td>\n",
       "      <td>4</td>\n",
       "    </tr>\n",
       "    <tr>\n",
       "      <th>12347</th>\n",
       "      <td>3</td>\n",
       "      <td>2</td>\n",
       "      <td>1323.32</td>\n",
       "      <td>1</td>\n",
       "    </tr>\n",
       "    <tr>\n",
       "      <th>12348</th>\n",
       "      <td>74</td>\n",
       "      <td>1</td>\n",
       "      <td>222.16</td>\n",
       "      <td>3</td>\n",
       "    </tr>\n",
       "    <tr>\n",
       "      <th>12349</th>\n",
       "      <td>43</td>\n",
       "      <td>3</td>\n",
       "      <td>2671.14</td>\n",
       "      <td>2</td>\n",
       "    </tr>\n",
       "    <tr>\n",
       "      <th>12351</th>\n",
       "      <td>11</td>\n",
       "      <td>1</td>\n",
       "      <td>300.93</td>\n",
       "      <td>1</td>\n",
       "    </tr>\n",
       "  </tbody>\n",
       "</table>\n",
       "</div>"
      ],
      "text/plain": [
       "             recency  frequency  monetary recency_score\n",
       "Customer ID                                            \n",
       "12346            165         11    372.86             4\n",
       "12347              3          2   1323.32             1\n",
       "12348             74          1    222.16             3\n",
       "12349             43          3   2671.14             2\n",
       "12351             11          1    300.93             1"
      ]
     },
     "execution_count": 64,
     "metadata": {},
     "output_type": "execute_result"
    }
   ],
   "source": [
    "# create a function to calculate recency score\n",
    "def recency_score(recency, recency_dict):\n",
    "    if recency <= recency_dict[0.25]:\n",
    "        # recency_score = 1 if recency is between 0-0.25 quantile\n",
    "        return '1'\n",
    "    elif recency <= recency_dict[0.5]:\n",
    "        # recency_score = 2 if recency is between 0.25-0.5 quantile\n",
    "        return '2'\n",
    "    elif recency <= recency_dict[0.75]:\n",
    "        # recency_score = 3 if recency is between 0.5-0.75 quantile\n",
    "        return '3'\n",
    "    else:\n",
    "        # recency_score = 4 if recency is between 0.75-1 quantile\n",
    "        return '4'\n",
    "\n",
    "df_rfm['recency_score'] = df_rfm['recency'].apply(recency_score, args=(recency_dict,))\n",
    "df_rfm.head()"
   ]
  },
  {
   "cell_type": "markdown",
   "id": "ce3272ae",
   "metadata": {},
   "source": [
    "### Frequency Score"
   ]
  },
  {
   "cell_type": "code",
   "execution_count": 65,
   "id": "858b682b",
   "metadata": {},
   "outputs": [
    {
     "data": {
      "text/plain": [
       "{0.25: 1.0, 0.5: 2.0, 0.75: 5.0}"
      ]
     },
     "execution_count": 65,
     "metadata": {},
     "output_type": "execute_result"
    }
   ],
   "source": [
    "# create a dictionary with the frequency quantiles\n",
    "frequency_dict = quantiles['frequency'].to_dict()\n",
    "frequency_dict"
   ]
  },
  {
   "cell_type": "code",
   "execution_count": 66,
   "id": "9f11eb49",
   "metadata": {},
   "outputs": [
    {
     "data": {
      "text/html": [
       "<div>\n",
       "<style scoped>\n",
       "    .dataframe tbody tr th:only-of-type {\n",
       "        vertical-align: middle;\n",
       "    }\n",
       "\n",
       "    .dataframe tbody tr th {\n",
       "        vertical-align: top;\n",
       "    }\n",
       "\n",
       "    .dataframe thead th {\n",
       "        text-align: right;\n",
       "    }\n",
       "</style>\n",
       "<table border=\"1\" class=\"dataframe\">\n",
       "  <thead>\n",
       "    <tr style=\"text-align: right;\">\n",
       "      <th></th>\n",
       "      <th>recency</th>\n",
       "      <th>frequency</th>\n",
       "      <th>monetary</th>\n",
       "      <th>recency_score</th>\n",
       "      <th>frequency_score</th>\n",
       "    </tr>\n",
       "    <tr>\n",
       "      <th>Customer ID</th>\n",
       "      <th></th>\n",
       "      <th></th>\n",
       "      <th></th>\n",
       "      <th></th>\n",
       "      <th></th>\n",
       "    </tr>\n",
       "  </thead>\n",
       "  <tbody>\n",
       "    <tr>\n",
       "      <th>12346</th>\n",
       "      <td>165</td>\n",
       "      <td>11</td>\n",
       "      <td>372.86</td>\n",
       "      <td>4</td>\n",
       "      <td>1</td>\n",
       "    </tr>\n",
       "    <tr>\n",
       "      <th>12347</th>\n",
       "      <td>3</td>\n",
       "      <td>2</td>\n",
       "      <td>1323.32</td>\n",
       "      <td>1</td>\n",
       "      <td>3</td>\n",
       "    </tr>\n",
       "    <tr>\n",
       "      <th>12348</th>\n",
       "      <td>74</td>\n",
       "      <td>1</td>\n",
       "      <td>222.16</td>\n",
       "      <td>3</td>\n",
       "      <td>4</td>\n",
       "    </tr>\n",
       "    <tr>\n",
       "      <th>12349</th>\n",
       "      <td>43</td>\n",
       "      <td>3</td>\n",
       "      <td>2671.14</td>\n",
       "      <td>2</td>\n",
       "      <td>2</td>\n",
       "    </tr>\n",
       "    <tr>\n",
       "      <th>12351</th>\n",
       "      <td>11</td>\n",
       "      <td>1</td>\n",
       "      <td>300.93</td>\n",
       "      <td>1</td>\n",
       "      <td>4</td>\n",
       "    </tr>\n",
       "  </tbody>\n",
       "</table>\n",
       "</div>"
      ],
      "text/plain": [
       "             recency  frequency  monetary recency_score frequency_score\n",
       "Customer ID                                                            \n",
       "12346            165         11    372.86             4               1\n",
       "12347              3          2   1323.32             1               3\n",
       "12348             74          1    222.16             3               4\n",
       "12349             43          3   2671.14             2               2\n",
       "12351             11          1    300.93             1               4"
      ]
     },
     "execution_count": 66,
     "metadata": {},
     "output_type": "execute_result"
    }
   ],
   "source": [
    "# create a function to calculate frequency score\n",
    "def frequency_score(frequency, frequency_dict):\n",
    "    if frequency <= frequency_dict[0.25]:\n",
    "        # frequency_score = 4 if frequency is between 0-0.25 quantile\n",
    "        return '4'\n",
    "    elif frequency <= frequency_dict[0.5]:\n",
    "        # frequency_score = 3 if frequency is between 0.25-0.5 quantile\n",
    "        return '3'\n",
    "    elif frequency <= frequency_dict[0.75]:\n",
    "        # frequency_score = 2 if frequency is between 0.5-0.75 quantile\n",
    "        return '2'\n",
    "    else:\n",
    "        # frequency_score = 1 if frequency is between 0.75-1 quantile\n",
    "        return '1'\n",
    "\n",
    "df_rfm['frequency_score'] = df_rfm['frequency'].apply(frequency_score, args=(frequency_dict,))\n",
    "df_rfm.head()"
   ]
  },
  {
   "cell_type": "code",
   "execution_count": 67,
   "id": "20add3d7",
   "metadata": {},
   "outputs": [
    {
     "data": {
      "text/plain": [
       "{0.25: 307.95, 0.5: 705.55, 0.75: 1722.8025}"
      ]
     },
     "execution_count": 67,
     "metadata": {},
     "output_type": "execute_result"
    }
   ],
   "source": [
    "# create a dictionary with the monetary quantiles\n",
    "monetary_dict = quantiles['monetary'].to_dict()\n",
    "monetary_dict"
   ]
  },
  {
   "cell_type": "code",
   "execution_count": 68,
   "id": "9883db7e",
   "metadata": {},
   "outputs": [
    {
     "data": {
      "text/html": [
       "<div>\n",
       "<style scoped>\n",
       "    .dataframe tbody tr th:only-of-type {\n",
       "        vertical-align: middle;\n",
       "    }\n",
       "\n",
       "    .dataframe tbody tr th {\n",
       "        vertical-align: top;\n",
       "    }\n",
       "\n",
       "    .dataframe thead th {\n",
       "        text-align: right;\n",
       "    }\n",
       "</style>\n",
       "<table border=\"1\" class=\"dataframe\">\n",
       "  <thead>\n",
       "    <tr style=\"text-align: right;\">\n",
       "      <th></th>\n",
       "      <th>recency</th>\n",
       "      <th>frequency</th>\n",
       "      <th>monetary</th>\n",
       "      <th>recency_score</th>\n",
       "      <th>frequency_score</th>\n",
       "      <th>monetary_score</th>\n",
       "    </tr>\n",
       "    <tr>\n",
       "      <th>Customer ID</th>\n",
       "      <th></th>\n",
       "      <th></th>\n",
       "      <th></th>\n",
       "      <th></th>\n",
       "      <th></th>\n",
       "      <th></th>\n",
       "    </tr>\n",
       "  </thead>\n",
       "  <tbody>\n",
       "    <tr>\n",
       "      <th>12346</th>\n",
       "      <td>165</td>\n",
       "      <td>11</td>\n",
       "      <td>372.86</td>\n",
       "      <td>4</td>\n",
       "      <td>1</td>\n",
       "      <td>3</td>\n",
       "    </tr>\n",
       "    <tr>\n",
       "      <th>12347</th>\n",
       "      <td>3</td>\n",
       "      <td>2</td>\n",
       "      <td>1323.32</td>\n",
       "      <td>1</td>\n",
       "      <td>3</td>\n",
       "      <td>2</td>\n",
       "    </tr>\n",
       "    <tr>\n",
       "      <th>12348</th>\n",
       "      <td>74</td>\n",
       "      <td>1</td>\n",
       "      <td>222.16</td>\n",
       "      <td>3</td>\n",
       "      <td>4</td>\n",
       "      <td>4</td>\n",
       "    </tr>\n",
       "    <tr>\n",
       "      <th>12349</th>\n",
       "      <td>43</td>\n",
       "      <td>3</td>\n",
       "      <td>2671.14</td>\n",
       "      <td>2</td>\n",
       "      <td>2</td>\n",
       "      <td>1</td>\n",
       "    </tr>\n",
       "    <tr>\n",
       "      <th>12351</th>\n",
       "      <td>11</td>\n",
       "      <td>1</td>\n",
       "      <td>300.93</td>\n",
       "      <td>1</td>\n",
       "      <td>4</td>\n",
       "      <td>4</td>\n",
       "    </tr>\n",
       "  </tbody>\n",
       "</table>\n",
       "</div>"
      ],
      "text/plain": [
       "             recency  frequency  monetary recency_score frequency_score  \\\n",
       "Customer ID                                                               \n",
       "12346            165         11    372.86             4               1   \n",
       "12347              3          2   1323.32             1               3   \n",
       "12348             74          1    222.16             3               4   \n",
       "12349             43          3   2671.14             2               2   \n",
       "12351             11          1    300.93             1               4   \n",
       "\n",
       "            monetary_score  \n",
       "Customer ID                 \n",
       "12346                    3  \n",
       "12347                    2  \n",
       "12348                    4  \n",
       "12349                    1  \n",
       "12351                    4  "
      ]
     },
     "execution_count": 68,
     "metadata": {},
     "output_type": "execute_result"
    }
   ],
   "source": [
    "# create a function to calculate monetary score\n",
    "def monetary_score(monetary, monetary_dict):\n",
    "    if monetary <= monetary_dict[0.25]:\n",
    "        # monetary_score = 4 if monetary is between 0-0.25 quantile\n",
    "        return '4'\n",
    "    elif monetary <= monetary_dict[0.5]:\n",
    "        # monetary_score = 3 if monetary is between 0.25-0.5 quantile\n",
    "        return '3'\n",
    "    elif monetary <= monetary_dict[0.75]:\n",
    "        # monetary_score = 2 if monetary is between 0.5-0.75 quantile\n",
    "        return '2'\n",
    "    else:\n",
    "        # monetary_score = 1 if monetary is between 0.75-1 quantile\n",
    "        return '1'\n",
    "\n",
    "df_rfm['monetary_score'] = df_rfm['monetary'].apply(monetary_score, args=(monetary_dict,))\n",
    "df_rfm.head()"
   ]
  },
  {
   "cell_type": "code",
   "execution_count": 69,
   "id": "a57a1f33",
   "metadata": {},
   "outputs": [
    {
     "data": {
      "text/html": [
       "<div>\n",
       "<style scoped>\n",
       "    .dataframe tbody tr th:only-of-type {\n",
       "        vertical-align: middle;\n",
       "    }\n",
       "\n",
       "    .dataframe tbody tr th {\n",
       "        vertical-align: top;\n",
       "    }\n",
       "\n",
       "    .dataframe thead th {\n",
       "        text-align: right;\n",
       "    }\n",
       "</style>\n",
       "<table border=\"1\" class=\"dataframe\">\n",
       "  <thead>\n",
       "    <tr style=\"text-align: right;\">\n",
       "      <th></th>\n",
       "      <th>recency</th>\n",
       "      <th>frequency</th>\n",
       "      <th>monetary</th>\n",
       "      <th>recency_score</th>\n",
       "      <th>frequency_score</th>\n",
       "      <th>monetary_score</th>\n",
       "      <th>rfm_score</th>\n",
       "    </tr>\n",
       "    <tr>\n",
       "      <th>Customer ID</th>\n",
       "      <th></th>\n",
       "      <th></th>\n",
       "      <th></th>\n",
       "      <th></th>\n",
       "      <th></th>\n",
       "      <th></th>\n",
       "      <th></th>\n",
       "    </tr>\n",
       "  </thead>\n",
       "  <tbody>\n",
       "    <tr>\n",
       "      <th>12346</th>\n",
       "      <td>165</td>\n",
       "      <td>11</td>\n",
       "      <td>372.86</td>\n",
       "      <td>4</td>\n",
       "      <td>1</td>\n",
       "      <td>3</td>\n",
       "      <td>413</td>\n",
       "    </tr>\n",
       "    <tr>\n",
       "      <th>12347</th>\n",
       "      <td>3</td>\n",
       "      <td>2</td>\n",
       "      <td>1323.32</td>\n",
       "      <td>1</td>\n",
       "      <td>3</td>\n",
       "      <td>2</td>\n",
       "      <td>132</td>\n",
       "    </tr>\n",
       "    <tr>\n",
       "      <th>12348</th>\n",
       "      <td>74</td>\n",
       "      <td>1</td>\n",
       "      <td>222.16</td>\n",
       "      <td>3</td>\n",
       "      <td>4</td>\n",
       "      <td>4</td>\n",
       "      <td>344</td>\n",
       "    </tr>\n",
       "    <tr>\n",
       "      <th>12349</th>\n",
       "      <td>43</td>\n",
       "      <td>3</td>\n",
       "      <td>2671.14</td>\n",
       "      <td>2</td>\n",
       "      <td>2</td>\n",
       "      <td>1</td>\n",
       "      <td>221</td>\n",
       "    </tr>\n",
       "    <tr>\n",
       "      <th>12351</th>\n",
       "      <td>11</td>\n",
       "      <td>1</td>\n",
       "      <td>300.93</td>\n",
       "      <td>1</td>\n",
       "      <td>4</td>\n",
       "      <td>4</td>\n",
       "      <td>144</td>\n",
       "    </tr>\n",
       "    <tr>\n",
       "      <th>12352</th>\n",
       "      <td>11</td>\n",
       "      <td>2</td>\n",
       "      <td>343.80</td>\n",
       "      <td>1</td>\n",
       "      <td>3</td>\n",
       "      <td>3</td>\n",
       "      <td>133</td>\n",
       "    </tr>\n",
       "    <tr>\n",
       "      <th>12353</th>\n",
       "      <td>44</td>\n",
       "      <td>1</td>\n",
       "      <td>317.76</td>\n",
       "      <td>2</td>\n",
       "      <td>4</td>\n",
       "      <td>3</td>\n",
       "      <td>243</td>\n",
       "    </tr>\n",
       "    <tr>\n",
       "      <th>12355</th>\n",
       "      <td>203</td>\n",
       "      <td>1</td>\n",
       "      <td>488.21</td>\n",
       "      <td>4</td>\n",
       "      <td>4</td>\n",
       "      <td>3</td>\n",
       "      <td>443</td>\n",
       "    </tr>\n",
       "    <tr>\n",
       "      <th>12356</th>\n",
       "      <td>16</td>\n",
       "      <td>3</td>\n",
       "      <td>3562.25</td>\n",
       "      <td>1</td>\n",
       "      <td>2</td>\n",
       "      <td>1</td>\n",
       "      <td>121</td>\n",
       "    </tr>\n",
       "    <tr>\n",
       "      <th>12357</th>\n",
       "      <td>24</td>\n",
       "      <td>2</td>\n",
       "      <td>12079.99</td>\n",
       "      <td>2</td>\n",
       "      <td>3</td>\n",
       "      <td>1</td>\n",
       "      <td>231</td>\n",
       "    </tr>\n",
       "  </tbody>\n",
       "</table>\n",
       "</div>"
      ],
      "text/plain": [
       "             recency  frequency  monetary recency_score frequency_score  \\\n",
       "Customer ID                                                               \n",
       "12346            165         11    372.86             4               1   \n",
       "12347              3          2   1323.32             1               3   \n",
       "12348             74          1    222.16             3               4   \n",
       "12349             43          3   2671.14             2               2   \n",
       "12351             11          1    300.93             1               4   \n",
       "12352             11          2    343.80             1               3   \n",
       "12353             44          1    317.76             2               4   \n",
       "12355            203          1    488.21             4               4   \n",
       "12356             16          3   3562.25             1               2   \n",
       "12357             24          2  12079.99             2               3   \n",
       "\n",
       "            monetary_score rfm_score  \n",
       "Customer ID                           \n",
       "12346                    3       413  \n",
       "12347                    2       132  \n",
       "12348                    4       344  \n",
       "12349                    1       221  \n",
       "12351                    4       144  \n",
       "12352                    3       133  \n",
       "12353                    3       243  \n",
       "12355                    3       443  \n",
       "12356                    1       121  \n",
       "12357                    1       231  "
      ]
     },
     "execution_count": 69,
     "metadata": {},
     "output_type": "execute_result"
    }
   ],
   "source": [
    "# Concanetate the RFM scores\n",
    "df_rfm['rfm_score'] = df_rfm['recency_score'] + df_rfm['frequency_score'] + df_rfm['monetary_score']\n",
    "df_rfm.head(10)"
   ]
  },
  {
   "attachments": {
    "rfm%20scores.png": {
     "image/png": "[encoded data removed]"
    }
   },
   "cell_type": "markdown",
   "id": "9f4413b0",
   "metadata": {},
   "source": [
    "The resulting table shows corresponding RFM scores for each customer. We can now analyze each segment and create personalized recommendations for each customer.\n",
    "\n",
    "See the guide table below: \n",
    "\n",
    "![rfm%20scores.png](attachment:rfm%20scores.png)"
   ]
  },
  {
   "cell_type": "code",
   "execution_count": 70,
   "id": "e897fca1",
   "metadata": {},
   "outputs": [
    {
     "name": "stdout",
     "output_type": "stream",
     "text": [
      "Best Customers\n"
     ]
    },
    {
     "data": {
      "text/plain": [
       "441"
      ]
     },
     "execution_count": 70,
     "metadata": {},
     "output_type": "execute_result"
    }
   ],
   "source": [
    "print(\"Best Customers\")\n",
    "len(df_rfm[df_rfm['rfm_score']=='111'])"
   ]
  },
  {
   "cell_type": "code",
   "execution_count": 71,
   "id": "73b8bf63",
   "metadata": {},
   "outputs": [],
   "source": [
    "# let's store the segment counts in a dictionary\n",
    "segment_counts = {'best_customers (111)': len(df_rfm[df_rfm['rfm_score']=='111']),\n",
    "                  'loyal_customers (X1X)': len(df_rfm[df_rfm['frequency_score']=='1']),\n",
    "                  'big_spenders (XX1)': len(df_rfm[df_rfm['monetary_score']=='1']),\n",
    "                  'almost_lost (311)': len(df_rfm[df_rfm['rfm_score']=='311']),\n",
    "                  'lost_good_customers (411)': len(df_rfm[df_rfm['rfm_score']=='411']),\n",
    "                  'lost_cheap_customers (444)': len(df_rfm[df_rfm['rfm_score']=='444'])}"
   ]
  },
  {
   "cell_type": "code",
   "execution_count": 72,
   "id": "b4f3ea60",
   "metadata": {},
   "outputs": [
    {
     "data": {
      "text/html": [
       "<div>\n",
       "<style scoped>\n",
       "    .dataframe tbody tr th:only-of-type {\n",
       "        vertical-align: middle;\n",
       "    }\n",
       "\n",
       "    .dataframe tbody tr th {\n",
       "        vertical-align: top;\n",
       "    }\n",
       "\n",
       "    .dataframe thead th {\n",
       "        text-align: right;\n",
       "    }\n",
       "</style>\n",
       "<table border=\"1\" class=\"dataframe\">\n",
       "  <thead>\n",
       "    <tr style=\"text-align: right;\">\n",
       "      <th></th>\n",
       "      <th>counts</th>\n",
       "    </tr>\n",
       "  </thead>\n",
       "  <tbody>\n",
       "    <tr>\n",
       "      <th>best_customers (111)</th>\n",
       "      <td>441</td>\n",
       "    </tr>\n",
       "    <tr>\n",
       "      <th>loyal_customers (X1X)</th>\n",
       "      <td>942</td>\n",
       "    </tr>\n",
       "    <tr>\n",
       "      <th>big_spenders (XX1)</th>\n",
       "      <td>1079</td>\n",
       "    </tr>\n",
       "    <tr>\n",
       "      <th>almost_lost (311)</th>\n",
       "      <td>98</td>\n",
       "    </tr>\n",
       "    <tr>\n",
       "      <th>lost_good_customers (411)</th>\n",
       "      <td>16</td>\n",
       "    </tr>\n",
       "    <tr>\n",
       "      <th>lost_cheap_customers (444)</th>\n",
       "      <td>463</td>\n",
       "    </tr>\n",
       "  </tbody>\n",
       "</table>\n",
       "</div>"
      ],
      "text/plain": [
       "                            counts\n",
       "best_customers (111)           441\n",
       "loyal_customers (X1X)          942\n",
       "big_spenders (XX1)            1079\n",
       "almost_lost (311)               98\n",
       "lost_good_customers (411)       16\n",
       "lost_cheap_customers (444)     463"
      ]
     },
     "execution_count": 72,
     "metadata": {},
     "output_type": "execute_result"
    }
   ],
   "source": [
    "# create a dataframe\n",
    "df_counts = pd.DataFrame(segment_counts.values(), index=segment_counts.keys(), columns=['counts'])\n",
    "df_counts"
   ]
  },
  {
   "cell_type": "code",
   "execution_count": 74,
   "id": "6fce427d",
   "metadata": {},
   "outputs": [
    {
     "data": {
      "text/plain": [
       "Text(0, 0.5, '# Customers per Segment')"
      ]
     },
     "execution_count": 74,
     "metadata": {},
     "output_type": "execute_result"
    },
    {
     "data": {
      "image/png": "[encoded data removed]",
      "text/plain": [
       "<Figure size 800x400 with 1 Axes>"
      ]
     },
     "metadata": {},
     "output_type": "display_data"
    }
   ],
   "source": [
    "# plot the counts\n",
    "fig, ax = plt.subplots(figsize=(8,4))\n",
    "df_counts.plot(kind='barh', ax=ax, legend=False)\n",
    "ax.set_title('RFM Customer Segments')\n",
    "ax.set_ylabel('# Customers per Segment')"
   ]
  },
  {
   "cell_type": "markdown",
   "id": "699025a5",
   "metadata": {},
   "source": [
    "From the results, we can separate which customers are lost (no recent transactions) or which customers are consistently purchasing.\n",
    "\n",
    "Note that the total counts of all these segments are not equal to the total counts of our customers. This is because we have some segments that are generic (big_spenders looking only at the monetary value, loyal_customers looking only at the frequency). Let's re-create the bar plot using the percentages to get a better picture of our customers."
   ]
  },
  {
   "cell_type": "code",
   "execution_count": 75,
   "id": "08563b1a",
   "metadata": {},
   "outputs": [
    {
     "data": {
      "text/html": [
       "<div>\n",
       "<style scoped>\n",
       "    .dataframe tbody tr th:only-of-type {\n",
       "        vertical-align: middle;\n",
       "    }\n",
       "\n",
       "    .dataframe tbody tr th {\n",
       "        vertical-align: top;\n",
       "    }\n",
       "\n",
       "    .dataframe thead th {\n",
       "        text-align: right;\n",
       "    }\n",
       "</style>\n",
       "<table border=\"1\" class=\"dataframe\">\n",
       "  <thead>\n",
       "    <tr style=\"text-align: right;\">\n",
       "      <th></th>\n",
       "      <th>counts</th>\n",
       "      <th>pct</th>\n",
       "    </tr>\n",
       "  </thead>\n",
       "  <tbody>\n",
       "    <tr>\n",
       "      <th>best_customers (111)</th>\n",
       "      <td>441</td>\n",
       "      <td>0.102225</td>\n",
       "    </tr>\n",
       "    <tr>\n",
       "      <th>loyal_customers (X1X)</th>\n",
       "      <td>942</td>\n",
       "      <td>0.218359</td>\n",
       "    </tr>\n",
       "    <tr>\n",
       "      <th>big_spenders (XX1)</th>\n",
       "      <td>1079</td>\n",
       "      <td>0.250116</td>\n",
       "    </tr>\n",
       "    <tr>\n",
       "      <th>almost_lost (311)</th>\n",
       "      <td>98</td>\n",
       "      <td>0.022717</td>\n",
       "    </tr>\n",
       "    <tr>\n",
       "      <th>lost_good_customers (411)</th>\n",
       "      <td>16</td>\n",
       "      <td>0.003709</td>\n",
       "    </tr>\n",
       "    <tr>\n",
       "      <th>lost_cheap_customers (444)</th>\n",
       "      <td>463</td>\n",
       "      <td>0.107325</td>\n",
       "    </tr>\n",
       "  </tbody>\n",
       "</table>\n",
       "</div>"
      ],
      "text/plain": [
       "                            counts       pct\n",
       "best_customers (111)           441  0.102225\n",
       "loyal_customers (X1X)          942  0.218359\n",
       "big_spenders (XX1)            1079  0.250116\n",
       "almost_lost (311)               98  0.022717\n",
       "lost_good_customers (411)       16  0.003709\n",
       "lost_cheap_customers (444)     463  0.107325"
      ]
     },
     "execution_count": 75,
     "metadata": {},
     "output_type": "execute_result"
    }
   ],
   "source": [
    "# get percentages\n",
    "customer_count = df['Customer ID'].nunique()\n",
    "\n",
    "df_counts['pct'] = df_counts['counts']/customer_count\n",
    "df_counts"
   ]
  },
  {
   "cell_type": "code",
   "execution_count": 77,
   "id": "82b53534",
   "metadata": {},
   "outputs": [
    {
     "data": {
      "text/plain": [
       "Text(0.5, 0, '% Customers per Segment')"
      ]
     },
     "execution_count": 77,
     "metadata": {},
     "output_type": "execute_result"
    },
    {
     "data": {
      "image/png": "[encoded data removed]",
      "text/plain": [
       "<Figure size 800x400 with 1 Axes>"
      ]
     },
     "metadata": {},
     "output_type": "display_data"
    }
   ],
   "source": [
    "# plot the counts\n",
    "fig, ax = plt.subplots(figsize=(8,4))\n",
    "df_counts['pct'].plot(kind='barh', ax=ax, legend=False)\n",
    "ax.set_title('RFM Customer Segments')\n",
    "ax.set_xlabel('% Customers per Segment')"
   ]
  },
  {
   "cell_type": "markdown",
   "id": "86a7e61f",
   "metadata": {},
   "source": [
    "With these percentages, we see that around 11% of the customer base (lost_cheap_customers + lost_good_customers) are lost. Most of which are the infrequent and low value customers.\n",
    "\n",
    "On the opposite end, our best customers (recent, high frequency, and high value) also takes 10% of the total."
   ]
  },
  {
   "cell_type": "code",
   "execution_count": 78,
   "id": "d730470c",
   "metadata": {},
   "outputs": [
    {
     "data": {
      "text/html": [
       "<div>\n",
       "<style scoped>\n",
       "    .dataframe tbody tr th:only-of-type {\n",
       "        vertical-align: middle;\n",
       "    }\n",
       "\n",
       "    .dataframe tbody tr th {\n",
       "        vertical-align: top;\n",
       "    }\n",
       "\n",
       "    .dataframe thead th {\n",
       "        text-align: right;\n",
       "    }\n",
       "</style>\n",
       "<table border=\"1\" class=\"dataframe\">\n",
       "  <thead>\n",
       "    <tr style=\"text-align: right;\">\n",
       "      <th></th>\n",
       "      <th>recency</th>\n",
       "      <th>frequency</th>\n",
       "      <th>monetary</th>\n",
       "      <th>recency_score</th>\n",
       "      <th>frequency_score</th>\n",
       "      <th>monetary_score</th>\n",
       "      <th>rfm_score</th>\n",
       "    </tr>\n",
       "    <tr>\n",
       "      <th>Customer ID</th>\n",
       "      <th></th>\n",
       "      <th></th>\n",
       "      <th></th>\n",
       "      <th></th>\n",
       "      <th></th>\n",
       "      <th></th>\n",
       "      <th></th>\n",
       "    </tr>\n",
       "  </thead>\n",
       "  <tbody>\n",
       "    <tr>\n",
       "      <th>18102</th>\n",
       "      <td>1</td>\n",
       "      <td>89</td>\n",
       "      <td>349164.35</td>\n",
       "      <td>1</td>\n",
       "      <td>1</td>\n",
       "      <td>1</td>\n",
       "      <td>111</td>\n",
       "    </tr>\n",
       "    <tr>\n",
       "      <th>14646</th>\n",
       "      <td>10</td>\n",
       "      <td>78</td>\n",
       "      <td>248396.50</td>\n",
       "      <td>1</td>\n",
       "      <td>1</td>\n",
       "      <td>1</td>\n",
       "      <td>111</td>\n",
       "    </tr>\n",
       "    <tr>\n",
       "      <th>14156</th>\n",
       "      <td>7</td>\n",
       "      <td>102</td>\n",
       "      <td>196566.74</td>\n",
       "      <td>1</td>\n",
       "      <td>1</td>\n",
       "      <td>1</td>\n",
       "      <td>111</td>\n",
       "    </tr>\n",
       "    <tr>\n",
       "      <th>14911</th>\n",
       "      <td>1</td>\n",
       "      <td>205</td>\n",
       "      <td>152147.57</td>\n",
       "      <td>1</td>\n",
       "      <td>1</td>\n",
       "      <td>1</td>\n",
       "      <td>111</td>\n",
       "    </tr>\n",
       "    <tr>\n",
       "      <th>13694</th>\n",
       "      <td>9</td>\n",
       "      <td>94</td>\n",
       "      <td>131443.19</td>\n",
       "      <td>1</td>\n",
       "      <td>1</td>\n",
       "      <td>1</td>\n",
       "      <td>111</td>\n",
       "    </tr>\n",
       "    <tr>\n",
       "      <th>17511</th>\n",
       "      <td>3</td>\n",
       "      <td>31</td>\n",
       "      <td>84541.17</td>\n",
       "      <td>1</td>\n",
       "      <td>1</td>\n",
       "      <td>1</td>\n",
       "      <td>111</td>\n",
       "    </tr>\n",
       "    <tr>\n",
       "      <th>15061</th>\n",
       "      <td>3</td>\n",
       "      <td>86</td>\n",
       "      <td>83284.38</td>\n",
       "      <td>1</td>\n",
       "      <td>1</td>\n",
       "      <td>1</td>\n",
       "      <td>111</td>\n",
       "    </tr>\n",
       "    <tr>\n",
       "      <th>16684</th>\n",
       "      <td>15</td>\n",
       "      <td>27</td>\n",
       "      <td>80489.21</td>\n",
       "      <td>1</td>\n",
       "      <td>1</td>\n",
       "      <td>1</td>\n",
       "      <td>111</td>\n",
       "    </tr>\n",
       "    <tr>\n",
       "      <th>16754</th>\n",
       "      <td>8</td>\n",
       "      <td>29</td>\n",
       "      <td>65500.07</td>\n",
       "      <td>1</td>\n",
       "      <td>1</td>\n",
       "      <td>1</td>\n",
       "      <td>111</td>\n",
       "    </tr>\n",
       "    <tr>\n",
       "      <th>17949</th>\n",
       "      <td>7</td>\n",
       "      <td>74</td>\n",
       "      <td>60117.60</td>\n",
       "      <td>1</td>\n",
       "      <td>1</td>\n",
       "      <td>1</td>\n",
       "      <td>111</td>\n",
       "    </tr>\n",
       "  </tbody>\n",
       "</table>\n",
       "</div>"
      ],
      "text/plain": [
       "             recency  frequency   monetary recency_score frequency_score  \\\n",
       "Customer ID                                                                \n",
       "18102              1         89  349164.35             1               1   \n",
       "14646             10         78  248396.50             1               1   \n",
       "14156              7        102  196566.74             1               1   \n",
       "14911              1        205  152147.57             1               1   \n",
       "13694              9         94  131443.19             1               1   \n",
       "17511              3         31   84541.17             1               1   \n",
       "15061              3         86   83284.38             1               1   \n",
       "16684             15         27   80489.21             1               1   \n",
       "16754              8         29   65500.07             1               1   \n",
       "17949              7         74   60117.60             1               1   \n",
       "\n",
       "            monetary_score rfm_score  \n",
       "Customer ID                           \n",
       "18102                    1       111  \n",
       "14646                    1       111  \n",
       "14156                    1       111  \n",
       "14911                    1       111  \n",
       "13694                    1       111  \n",
       "17511                    1       111  \n",
       "15061                    1       111  \n",
       "16684                    1       111  \n",
       "16754                    1       111  \n",
       "17949                    1       111  "
      ]
     },
     "execution_count": 78,
     "metadata": {},
     "output_type": "execute_result"
    }
   ],
   "source": [
    "df_rfm[df_rfm['rfm_score']=='111'].sort_values('monetary', ascending=False).head(10)"
   ]
  },
  {
   "cell_type": "markdown",
   "id": "46402d9f",
   "metadata": {},
   "source": [
    "# Conclusion and Recommendation\n",
    "\n",
    "Using pandas and matplotlib functions, we were able to perform RFM segmentation with our customers. With this results, we can provide personalized marketing campaigns for each customer.\n",
    "\n",
    "We were able to segment the customers based on their purchasing habits. From this segments, we can provide personalized marketing campaigns. For example, by identifying the almost_lost customers, we can send them larger discount vouchers to get them to re-purchase. For the top_spenders and best_customers, we can show them the more expensive products or provide loyalty rewards to keep them happy and satisfied.\n",
    "\n",
    "We also established percentages and distributions of the customer segments. We can set them as a metric to target for our operations. When we see that the lost customers percentage is increasing from 10%, we would get the need to create campaigns to improve retention.\n",
    "\n",
    "This concludes our RFM analysis with python. Recall that cleaning and performing exploratory analysis is a key procedure that allows us to improve our understanding of our dataset. By creating customer segments based on similar attributes (cohorts, rfm, etc.), we can provide actionable insights for our stakeholders."
   ]
  },
  {
   "cell_type": "code",
   "execution_count": null,
   "id": "4516c423",
   "metadata": {},
   "outputs": [],
   "source": []
  }
 ],
 "metadata": {
  "kernelspec": {
   "display_name": "Python 3 (ipykernel)",
   "language": "python",
   "name": "python3"
  },
  "language_info": {
   "codemirror_mode": {
    "name": "ipython",
    "version": 3
   },
   "file_extension": ".py",
   "mimetype": "text/x-python",
   "name": "python",
   "nbconvert_exporter": "python",
   "pygments_lexer": "ipython3",
   "version": "3.11.3"
  }
 },
 "nbformat": 4,
 "nbformat_minor": 5
}
